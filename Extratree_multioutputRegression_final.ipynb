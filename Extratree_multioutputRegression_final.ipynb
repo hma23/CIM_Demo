{
  "cells": [
    {
      "cell_type": "markdown",
      "metadata": {
        "id": "view-in-github",
        "colab_type": "text"
      },
      "source": [
        "<a href=\"https://colab.research.google.com/github/hma23/CIM_Demo/blob/master/Extratree_multioutputRegression_final.ipynb\" target=\"_parent\"><img src=\"https://colab.research.google.com/assets/colab-badge.svg\" alt=\"Open In Colab\"/></a>"
      ]
    },
    {
      "cell_type": "code",
      "execution_count": null,
      "metadata": {
        "id": "3x5EA9gOl5fl"
      },
      "outputs": [],
      "source": [
        "import pandas as pd\n",
        "import numpy as np\n",
        "import seaborn as sns\n",
        "from sklearn.model_selection import train_test_split\n",
        "from sklearn.linear_model import LinearRegression\n",
        "from sklearn.metrics import r2_score"
      ]
    },
    {
      "cell_type": "code",
      "execution_count": null,
      "metadata": {
        "colab": {
          "base_uri": "https://localhost:8080/"
        },
        "id": "KmbOdkd-jJOp",
        "outputId": "625e7404-4b44-45d7-9351-56fee23ba5b6"
      },
      "outputs": [
        {
          "output_type": "stream",
          "name": "stdout",
          "text": [
            "1.0.2\n"
          ]
        }
      ],
      "source": [
        "#To know sklearn version\n",
        "import sklearn\n",
        "sklearn_version = sklearn.__version__\n",
        "print(sklearn_version)"
      ]
    },
    {
      "cell_type": "code",
      "execution_count": null,
      "metadata": {
        "colab": {
          "base_uri": "https://localhost:8080/"
        },
        "id": "54L_PuJzoP34",
        "outputId": "ef8b4090-ca69-4745-c800-852dff4cae6c"
      },
      "outputs": [
        {
          "output_type": "execute_result",
          "data": {
            "text/plain": [
              "500"
            ]
          },
          "metadata": {},
          "execution_count": 3
        }
      ],
      "source": [
        "#To show all records for our data frame\n",
        "pd.set_option(\"display.min_rows\", 200)\n",
        "pd.set_option(\"display.max_rows\", 500)\n",
        "pd.get_option(\"display.max_rows\")"
      ]
    },
    {
      "cell_type": "code",
      "execution_count": null,
      "metadata": {
        "colab": {
          "base_uri": "https://localhost:8080/"
        },
        "id": "_j4rI5RQmhqD",
        "outputId": "c06368e9-0f5c-4eba-bc30-cf1f09d41196"
      },
      "outputs": [
        {
          "output_type": "stream",
          "name": "stdout",
          "text": [
            "Drive already mounted at /content/drive; to attempt to forcibly remount, call drive.mount(\"/content/drive\", force_remount=True).\n"
          ]
        }
      ],
      "source": [
        "from google.colab import drive\n",
        "drive.mount('/content/drive')"
      ]
    },
    {
      "cell_type": "code",
      "execution_count": null,
      "metadata": {
        "id": "dX6m75XO4g9S"
      },
      "outputs": [],
      "source": [
        "# !pip install pandas==0.23.0\n",
        "# !pip install pycaret"
      ]
    },
    {
      "cell_type": "code",
      "execution_count": null,
      "metadata": {
        "colab": {
          "base_uri": "https://localhost:8080/"
        },
        "id": "bRYQ_Kda9zAK",
        "outputId": "eec5b95b-1364-4e80-fd11-999a92d314bc"
      },
      "outputs": [
        {
          "output_type": "stream",
          "name": "stdout",
          "text": [
            "Requirement already satisfied: openpyxl in /usr/local/lib/python3.7/dist-packages (3.0.9)\n",
            "Requirement already satisfied: et-xmlfile in /usr/local/lib/python3.7/dist-packages (from openpyxl) (1.1.0)\n"
          ]
        }
      ],
      "source": [
        "!pip install --upgrade openpyxl"
      ]
    },
    {
      "cell_type": "code",
      "execution_count": null,
      "metadata": {
        "colab": {
          "base_uri": "https://localhost:8080/",
          "height": 398
        },
        "id": "4DXWrO5Mmhso",
        "outputId": "f1654713-993c-41f4-b931-9fc486e9aff2"
      },
      "outputs": [
        {
          "output_type": "stream",
          "name": "stderr",
          "text": [
            "/usr/local/lib/python3.7/dist-packages/openpyxl/worksheet/_reader.py:312: UserWarning: Unknown extension is not supported and will be removed\n",
            "  warn(msg)\n"
          ]
        },
        {
          "output_type": "execute_result",
          "data": {
            "text/html": [
              "\n",
              "  <div id=\"df-15c2ef02-8bd3-4056-983f-839e49ee70df\">\n",
              "    <div class=\"colab-df-container\">\n",
              "      <div>\n",
              "<style scoped>\n",
              "    .dataframe tbody tr th:only-of-type {\n",
              "        vertical-align: middle;\n",
              "    }\n",
              "\n",
              "    .dataframe tbody tr th {\n",
              "        vertical-align: top;\n",
              "    }\n",
              "\n",
              "    .dataframe thead th {\n",
              "        text-align: right;\n",
              "    }\n",
              "</style>\n",
              "<table border=\"1\" class=\"dataframe\">\n",
              "  <thead>\n",
              "    <tr style=\"text-align: right;\">\n",
              "      <th></th>\n",
              "      <th>Block_period</th>\n",
              "      <th>Block_size</th>\n",
              "      <th>Intensity</th>\n",
              "      <th>Throughput</th>\n",
              "      <th>Latency</th>\n",
              "      <th>mac_type</th>\n",
              "      <th>Number_of_peers</th>\n",
              "      <th>Bandwidth_gbps</th>\n",
              "      <th>Ratio of bandwidth to number of peers</th>\n",
              "    </tr>\n",
              "  </thead>\n",
              "  <tbody>\n",
              "    <tr>\n",
              "      <th>0</th>\n",
              "      <td>1.0</td>\n",
              "      <td>13.0</td>\n",
              "      <td>High</td>\n",
              "      <td>89.0</td>\n",
              "      <td>71.048</td>\n",
              "      <td>m1.medium</td>\n",
              "      <td>1.0</td>\n",
              "      <td>1.000</td>\n",
              "      <td>1.00</td>\n",
              "    </tr>\n",
              "    <tr>\n",
              "      <th>1</th>\n",
              "      <td>2.0</td>\n",
              "      <td>13.0</td>\n",
              "      <td>High</td>\n",
              "      <td>43.0</td>\n",
              "      <td>146.048</td>\n",
              "      <td>m1.medium</td>\n",
              "      <td>2.0</td>\n",
              "      <td>0.979</td>\n",
              "      <td>0.49</td>\n",
              "    </tr>\n",
              "    <tr>\n",
              "      <th>2</th>\n",
              "      <td>3.0</td>\n",
              "      <td>13.0</td>\n",
              "      <td>High</td>\n",
              "      <td>28.0</td>\n",
              "      <td>218.549</td>\n",
              "      <td>m1.medium</td>\n",
              "      <td>4.0</td>\n",
              "      <td>0.900</td>\n",
              "      <td>0.23</td>\n",
              "    </tr>\n",
              "    <tr>\n",
              "      <th>3</th>\n",
              "      <td>4.0</td>\n",
              "      <td>13.0</td>\n",
              "      <td>High</td>\n",
              "      <td>20.0</td>\n",
              "      <td>291.848</td>\n",
              "      <td>m1.medium</td>\n",
              "      <td>8.0</td>\n",
              "      <td>0.800</td>\n",
              "      <td>0.10</td>\n",
              "    </tr>\n",
              "    <tr>\n",
              "      <th>4</th>\n",
              "      <td>5.0</td>\n",
              "      <td>13.0</td>\n",
              "      <td>High</td>\n",
              "      <td>17.0</td>\n",
              "      <td>365.552</td>\n",
              "      <td>m1.medium</td>\n",
              "      <td>16.0</td>\n",
              "      <td>0.700</td>\n",
              "      <td>0.04</td>\n",
              "    </tr>\n",
              "    <tr>\n",
              "      <th>5</th>\n",
              "      <td>6.0</td>\n",
              "      <td>13.0</td>\n",
              "      <td>High</td>\n",
              "      <td>14.0</td>\n",
              "      <td>437.861</td>\n",
              "      <td>m1.medium</td>\n",
              "      <td>16.0</td>\n",
              "      <td>0.850</td>\n",
              "      <td>0.05</td>\n",
              "    </tr>\n",
              "    <tr>\n",
              "      <th>6</th>\n",
              "      <td>7.0</td>\n",
              "      <td>13.0</td>\n",
              "      <td>High</td>\n",
              "      <td>12.0</td>\n",
              "      <td>512.076</td>\n",
              "      <td>m1.medium</td>\n",
              "      <td>3.0</td>\n",
              "      <td>0.886</td>\n",
              "      <td>0.30</td>\n",
              "    </tr>\n",
              "    <tr>\n",
              "      <th>7</th>\n",
              "      <td>8.0</td>\n",
              "      <td>13.0</td>\n",
              "      <td>High</td>\n",
              "      <td>11.0</td>\n",
              "      <td>586.079</td>\n",
              "      <td>m1.medium</td>\n",
              "      <td>3.0</td>\n",
              "      <td>0.776</td>\n",
              "      <td>0.26</td>\n",
              "    </tr>\n",
              "    <tr>\n",
              "      <th>8</th>\n",
              "      <td>9.0</td>\n",
              "      <td>13.0</td>\n",
              "      <td>High</td>\n",
              "      <td>10.0</td>\n",
              "      <td>659.079</td>\n",
              "      <td>m1.medium</td>\n",
              "      <td>3.0</td>\n",
              "      <td>0.700</td>\n",
              "      <td>0.23</td>\n",
              "    </tr>\n",
              "    <tr>\n",
              "      <th>9</th>\n",
              "      <td>10.0</td>\n",
              "      <td>13.0</td>\n",
              "      <td>High</td>\n",
              "      <td>9.0</td>\n",
              "      <td>731.070</td>\n",
              "      <td>m1.medium</td>\n",
              "      <td>3.0</td>\n",
              "      <td>0.701</td>\n",
              "      <td>0.23</td>\n",
              "    </tr>\n",
              "  </tbody>\n",
              "</table>\n",
              "</div>\n",
              "      <button class=\"colab-df-convert\" onclick=\"convertToInteractive('df-15c2ef02-8bd3-4056-983f-839e49ee70df')\"\n",
              "              title=\"Convert this dataframe to an interactive table.\"\n",
              "              style=\"display:none;\">\n",
              "        \n",
              "  <svg xmlns=\"http://www.w3.org/2000/svg\" height=\"24px\"viewBox=\"0 0 24 24\"\n",
              "       width=\"24px\">\n",
              "    <path d=\"M0 0h24v24H0V0z\" fill=\"none\"/>\n",
              "    <path d=\"M18.56 5.44l.94 2.06.94-2.06 2.06-.94-2.06-.94-.94-2.06-.94 2.06-2.06.94zm-11 1L8.5 8.5l.94-2.06 2.06-.94-2.06-.94L8.5 2.5l-.94 2.06-2.06.94zm10 10l.94 2.06.94-2.06 2.06-.94-2.06-.94-.94-2.06-.94 2.06-2.06.94z\"/><path d=\"M17.41 7.96l-1.37-1.37c-.4-.4-.92-.59-1.43-.59-.52 0-1.04.2-1.43.59L10.3 9.45l-7.72 7.72c-.78.78-.78 2.05 0 2.83L4 21.41c.39.39.9.59 1.41.59.51 0 1.02-.2 1.41-.59l7.78-7.78 2.81-2.81c.8-.78.8-2.07 0-2.86zM5.41 20L4 18.59l7.72-7.72 1.47 1.35L5.41 20z\"/>\n",
              "  </svg>\n",
              "      </button>\n",
              "      \n",
              "  <style>\n",
              "    .colab-df-container {\n",
              "      display:flex;\n",
              "      flex-wrap:wrap;\n",
              "      gap: 12px;\n",
              "    }\n",
              "\n",
              "    .colab-df-convert {\n",
              "      background-color: #E8F0FE;\n",
              "      border: none;\n",
              "      border-radius: 50%;\n",
              "      cursor: pointer;\n",
              "      display: none;\n",
              "      fill: #1967D2;\n",
              "      height: 32px;\n",
              "      padding: 0 0 0 0;\n",
              "      width: 32px;\n",
              "    }\n",
              "\n",
              "    .colab-df-convert:hover {\n",
              "      background-color: #E2EBFA;\n",
              "      box-shadow: 0px 1px 2px rgba(60, 64, 67, 0.3), 0px 1px 3px 1px rgba(60, 64, 67, 0.15);\n",
              "      fill: #174EA6;\n",
              "    }\n",
              "\n",
              "    [theme=dark] .colab-df-convert {\n",
              "      background-color: #3B4455;\n",
              "      fill: #D2E3FC;\n",
              "    }\n",
              "\n",
              "    [theme=dark] .colab-df-convert:hover {\n",
              "      background-color: #434B5C;\n",
              "      box-shadow: 0px 1px 3px 1px rgba(0, 0, 0, 0.15);\n",
              "      filter: drop-shadow(0px 1px 2px rgba(0, 0, 0, 0.3));\n",
              "      fill: #FFFFFF;\n",
              "    }\n",
              "  </style>\n",
              "\n",
              "      <script>\n",
              "        const buttonEl =\n",
              "          document.querySelector('#df-15c2ef02-8bd3-4056-983f-839e49ee70df button.colab-df-convert');\n",
              "        buttonEl.style.display =\n",
              "          google.colab.kernel.accessAllowed ? 'block' : 'none';\n",
              "\n",
              "        async function convertToInteractive(key) {\n",
              "          const element = document.querySelector('#df-15c2ef02-8bd3-4056-983f-839e49ee70df');\n",
              "          const dataTable =\n",
              "            await google.colab.kernel.invokeFunction('convertToInteractive',\n",
              "                                                     [key], {});\n",
              "          if (!dataTable) return;\n",
              "\n",
              "          const docLinkHtml = 'Like what you see? Visit the ' +\n",
              "            '<a target=\"_blank\" href=https://colab.research.google.com/notebooks/data_table.ipynb>data table notebook</a>'\n",
              "            + ' to learn more about interactive tables.';\n",
              "          element.innerHTML = '';\n",
              "          dataTable['output_type'] = 'display_data';\n",
              "          await google.colab.output.renderOutput(dataTable, element);\n",
              "          const docLink = document.createElement('div');\n",
              "          docLink.innerHTML = docLinkHtml;\n",
              "          element.appendChild(docLink);\n",
              "        }\n",
              "      </script>\n",
              "    </div>\n",
              "  </div>\n",
              "  "
            ],
            "text/plain": [
              "   Block_period  ...  Ratio of bandwidth to number of peers\n",
              "0           1.0  ...                                   1.00\n",
              "1           2.0  ...                                   0.49\n",
              "2           3.0  ...                                   0.23\n",
              "3           4.0  ...                                   0.10\n",
              "4           5.0  ...                                   0.04\n",
              "5           6.0  ...                                   0.05\n",
              "6           7.0  ...                                   0.30\n",
              "7           8.0  ...                                   0.26\n",
              "8           9.0  ...                                   0.23\n",
              "9          10.0  ...                                   0.23\n",
              "\n",
              "[10 rows x 9 columns]"
            ]
          },
          "metadata": {},
          "execution_count": 7
        }
      ],
      "source": [
        "# df = pd.read_excel('/content/drive/MyDrive/data/Book1_new.xlsx')\n",
        "df = pd.read_excel('/content/drive/MyDrive/data/CPU_Book1_new1_2_1.xlsx',engine = 'openpyxl')\n",
        "#uncomment next line to show all values\n",
        "df.head(10)"
      ]
    },
    {
      "cell_type": "markdown",
      "metadata": {
        "id": "_KCddeJ5RXtE"
      },
      "source": [
        "## Exploratry Data Analysis (EDA)"
      ]
    },
    {
      "cell_type": "code",
      "execution_count": null,
      "metadata": {
        "colab": {
          "base_uri": "https://localhost:8080/",
          "height": 300
        },
        "id": "uIS8XkNpZKl8",
        "outputId": "4b99e6f3-7d6c-41cd-eb86-e5ae898185ca"
      },
      "outputs": [
        {
          "output_type": "execute_result",
          "data": {
            "text/html": [
              "\n",
              "  <div id=\"df-49aa45f2-fc2e-4955-85c6-6f996180258c\">\n",
              "    <div class=\"colab-df-container\">\n",
              "      <div>\n",
              "<style scoped>\n",
              "    .dataframe tbody tr th:only-of-type {\n",
              "        vertical-align: middle;\n",
              "    }\n",
              "\n",
              "    .dataframe tbody tr th {\n",
              "        vertical-align: top;\n",
              "    }\n",
              "\n",
              "    .dataframe thead th {\n",
              "        text-align: right;\n",
              "    }\n",
              "</style>\n",
              "<table border=\"1\" class=\"dataframe\">\n",
              "  <thead>\n",
              "    <tr style=\"text-align: right;\">\n",
              "      <th></th>\n",
              "      <th>Block_period</th>\n",
              "      <th>Block_size</th>\n",
              "      <th>Throughput</th>\n",
              "      <th>Latency</th>\n",
              "      <th>Number_of_peers</th>\n",
              "      <th>Bandwidth_gbps</th>\n",
              "      <th>Ratio of bandwidth to number of peers</th>\n",
              "    </tr>\n",
              "  </thead>\n",
              "  <tbody>\n",
              "    <tr>\n",
              "      <th>count</th>\n",
              "      <td>190.000000</td>\n",
              "      <td>190.000000</td>\n",
              "      <td>190.000000</td>\n",
              "      <td>190.000000</td>\n",
              "      <td>190.000000</td>\n",
              "      <td>190.000000</td>\n",
              "      <td>190.000000</td>\n",
              "    </tr>\n",
              "    <tr>\n",
              "      <th>mean</th>\n",
              "      <td>6.631579</td>\n",
              "      <td>12.226316</td>\n",
              "      <td>46.052632</td>\n",
              "      <td>412.643607</td>\n",
              "      <td>5.710526</td>\n",
              "      <td>0.702737</td>\n",
              "      <td>0.227105</td>\n",
              "    </tr>\n",
              "    <tr>\n",
              "      <th>std</th>\n",
              "      <td>3.824324</td>\n",
              "      <td>3.342265</td>\n",
              "      <td>62.498824</td>\n",
              "      <td>387.241382</td>\n",
              "      <td>5.235754</td>\n",
              "      <td>0.258085</td>\n",
              "      <td>0.201414</td>\n",
              "    </tr>\n",
              "    <tr>\n",
              "      <th>min</th>\n",
              "      <td>1.000000</td>\n",
              "      <td>7.000000</td>\n",
              "      <td>3.000000</td>\n",
              "      <td>11.035000</td>\n",
              "      <td>1.000000</td>\n",
              "      <td>0.100000</td>\n",
              "      <td>0.020000</td>\n",
              "    </tr>\n",
              "    <tr>\n",
              "      <th>25%</th>\n",
              "      <td>4.000000</td>\n",
              "      <td>10.000000</td>\n",
              "      <td>9.250000</td>\n",
              "      <td>104.718917</td>\n",
              "      <td>3.000000</td>\n",
              "      <td>0.478000</td>\n",
              "      <td>0.072500</td>\n",
              "    </tr>\n",
              "    <tr>\n",
              "      <th>50%</th>\n",
              "      <td>5.000000</td>\n",
              "      <td>13.000000</td>\n",
              "      <td>26.000000</td>\n",
              "      <td>251.401000</td>\n",
              "      <td>3.000000</td>\n",
              "      <td>0.700000</td>\n",
              "      <td>0.210000</td>\n",
              "    </tr>\n",
              "    <tr>\n",
              "      <th>75%</th>\n",
              "      <td>10.000000</td>\n",
              "      <td>14.000000</td>\n",
              "      <td>62.000000</td>\n",
              "      <td>659.292825</td>\n",
              "      <td>8.000000</td>\n",
              "      <td>0.977250</td>\n",
              "      <td>0.310000</td>\n",
              "    </tr>\n",
              "    <tr>\n",
              "      <th>max</th>\n",
              "      <td>14.000000</td>\n",
              "      <td>21.000000</td>\n",
              "      <td>589.000000</td>\n",
              "      <td>1645.100000</td>\n",
              "      <td>16.000000</td>\n",
              "      <td>1.000000</td>\n",
              "      <td>1.000000</td>\n",
              "    </tr>\n",
              "  </tbody>\n",
              "</table>\n",
              "</div>\n",
              "      <button class=\"colab-df-convert\" onclick=\"convertToInteractive('df-49aa45f2-fc2e-4955-85c6-6f996180258c')\"\n",
              "              title=\"Convert this dataframe to an interactive table.\"\n",
              "              style=\"display:none;\">\n",
              "        \n",
              "  <svg xmlns=\"http://www.w3.org/2000/svg\" height=\"24px\"viewBox=\"0 0 24 24\"\n",
              "       width=\"24px\">\n",
              "    <path d=\"M0 0h24v24H0V0z\" fill=\"none\"/>\n",
              "    <path d=\"M18.56 5.44l.94 2.06.94-2.06 2.06-.94-2.06-.94-.94-2.06-.94 2.06-2.06.94zm-11 1L8.5 8.5l.94-2.06 2.06-.94-2.06-.94L8.5 2.5l-.94 2.06-2.06.94zm10 10l.94 2.06.94-2.06 2.06-.94-2.06-.94-.94-2.06-.94 2.06-2.06.94z\"/><path d=\"M17.41 7.96l-1.37-1.37c-.4-.4-.92-.59-1.43-.59-.52 0-1.04.2-1.43.59L10.3 9.45l-7.72 7.72c-.78.78-.78 2.05 0 2.83L4 21.41c.39.39.9.59 1.41.59.51 0 1.02-.2 1.41-.59l7.78-7.78 2.81-2.81c.8-.78.8-2.07 0-2.86zM5.41 20L4 18.59l7.72-7.72 1.47 1.35L5.41 20z\"/>\n",
              "  </svg>\n",
              "      </button>\n",
              "      \n",
              "  <style>\n",
              "    .colab-df-container {\n",
              "      display:flex;\n",
              "      flex-wrap:wrap;\n",
              "      gap: 12px;\n",
              "    }\n",
              "\n",
              "    .colab-df-convert {\n",
              "      background-color: #E8F0FE;\n",
              "      border: none;\n",
              "      border-radius: 50%;\n",
              "      cursor: pointer;\n",
              "      display: none;\n",
              "      fill: #1967D2;\n",
              "      height: 32px;\n",
              "      padding: 0 0 0 0;\n",
              "      width: 32px;\n",
              "    }\n",
              "\n",
              "    .colab-df-convert:hover {\n",
              "      background-color: #E2EBFA;\n",
              "      box-shadow: 0px 1px 2px rgba(60, 64, 67, 0.3), 0px 1px 3px 1px rgba(60, 64, 67, 0.15);\n",
              "      fill: #174EA6;\n",
              "    }\n",
              "\n",
              "    [theme=dark] .colab-df-convert {\n",
              "      background-color: #3B4455;\n",
              "      fill: #D2E3FC;\n",
              "    }\n",
              "\n",
              "    [theme=dark] .colab-df-convert:hover {\n",
              "      background-color: #434B5C;\n",
              "      box-shadow: 0px 1px 3px 1px rgba(0, 0, 0, 0.15);\n",
              "      filter: drop-shadow(0px 1px 2px rgba(0, 0, 0, 0.3));\n",
              "      fill: #FFFFFF;\n",
              "    }\n",
              "  </style>\n",
              "\n",
              "      <script>\n",
              "        const buttonEl =\n",
              "          document.querySelector('#df-49aa45f2-fc2e-4955-85c6-6f996180258c button.colab-df-convert');\n",
              "        buttonEl.style.display =\n",
              "          google.colab.kernel.accessAllowed ? 'block' : 'none';\n",
              "\n",
              "        async function convertToInteractive(key) {\n",
              "          const element = document.querySelector('#df-49aa45f2-fc2e-4955-85c6-6f996180258c');\n",
              "          const dataTable =\n",
              "            await google.colab.kernel.invokeFunction('convertToInteractive',\n",
              "                                                     [key], {});\n",
              "          if (!dataTable) return;\n",
              "\n",
              "          const docLinkHtml = 'Like what you see? Visit the ' +\n",
              "            '<a target=\"_blank\" href=https://colab.research.google.com/notebooks/data_table.ipynb>data table notebook</a>'\n",
              "            + ' to learn more about interactive tables.';\n",
              "          element.innerHTML = '';\n",
              "          dataTable['output_type'] = 'display_data';\n",
              "          await google.colab.output.renderOutput(dataTable, element);\n",
              "          const docLink = document.createElement('div');\n",
              "          docLink.innerHTML = docLinkHtml;\n",
              "          element.appendChild(docLink);\n",
              "        }\n",
              "      </script>\n",
              "    </div>\n",
              "  </div>\n",
              "  "
            ],
            "text/plain": [
              "       Block_period  ...  Ratio of bandwidth to number of peers\n",
              "count    190.000000  ...                             190.000000\n",
              "mean       6.631579  ...                               0.227105\n",
              "std        3.824324  ...                               0.201414\n",
              "min        1.000000  ...                               0.020000\n",
              "25%        4.000000  ...                               0.072500\n",
              "50%        5.000000  ...                               0.210000\n",
              "75%       10.000000  ...                               0.310000\n",
              "max       14.000000  ...                               1.000000\n",
              "\n",
              "[8 rows x 7 columns]"
            ]
          },
          "metadata": {},
          "execution_count": 8
        }
      ],
      "source": [
        "df.describe()"
      ]
    },
    {
      "cell_type": "code",
      "execution_count": null,
      "metadata": {
        "id": "S9TfswLHRh5L"
      },
      "outputs": [],
      "source": [
        "#sns.pairplot(df, height=3, aspect=1.3)"
      ]
    },
    {
      "cell_type": "code",
      "execution_count": null,
      "metadata": {
        "colab": {
          "base_uri": "https://localhost:8080/",
          "height": 364
        },
        "id": "2PevyUGkUDXU",
        "outputId": "0459d8f2-63d6-435f-f984-5928ab29fdd9"
      },
      "outputs": [
        {
          "output_type": "execute_result",
          "data": {
            "text/plain": [
              "<matplotlib.axes._subplots.AxesSubplot at 0x7ff0dd1a7390>"
            ]
          },
          "metadata": {},
          "execution_count": 10
        },
        {
          "output_type": "display_data",
          "data": {
            "image/png": "[encoded data removed]",
            "text/plain": [
              "<Figure size 432x288 with 2 Axes>"
            ]
          },
          "metadata": {
            "needs_background": "light"
          }
        }
      ],
      "source": [
        "#heat_map without ratio\n",
        "df_heat = df.copy()\n",
        "df_heat.drop(columns = ['Ratio of bandwidth to number of peers'],inplace = True)\n",
        "sns.heatmap(df_heat.corr(), annot=True)"
      ]
    },
    {
      "cell_type": "code",
      "execution_count": null,
      "metadata": {
        "id": "hTIYvJY1-xIo",
        "colab": {
          "base_uri": "https://localhost:8080/",
          "height": 469
        },
        "outputId": "30d65731-660d-47a3-9675-7405a0f06378"
      },
      "outputs": [
        {
          "output_type": "execute_result",
          "data": {
            "text/plain": [
              "<matplotlib.axes._subplots.AxesSubplot at 0x7ff0db025dd0>"
            ]
          },
          "metadata": {},
          "execution_count": 11
        },
        {
          "output_type": "display_data",
          "data": {
            "image/png": "[encoded data removed]",
            "text/plain": [
              "<Figure size 432x288 with 2 Axes>"
            ]
          },
          "metadata": {
            "needs_background": "light"
          }
        }
      ],
      "source": [
        "#heat_map with ratio\n",
        "df_heatfe = df.copy()\n",
        "df_heatfe.drop(columns = ['Number_of_peers', 'Bandwidth_gbps'],inplace = True)\n",
        "sns.heatmap(df_heatfe.corr(), annot=True)"
      ]
    },
    {
      "cell_type": "code",
      "execution_count": null,
      "metadata": {
        "colab": {
          "base_uri": "https://localhost:8080/",
          "height": 296
        },
        "id": "XYxNrC70VkB8",
        "outputId": "e22d9a18-65aa-42d1-fcad-eff2d15fad83"
      },
      "outputs": [
        {
          "output_type": "execute_result",
          "data": {
            "text/plain": [
              "<matplotlib.axes._subplots.AxesSubplot at 0x7ff0daac24d0>"
            ]
          },
          "metadata": {},
          "execution_count": 12
        },
        {
          "output_type": "display_data",
          "data": {
            "image/png": "[encoded data removed]",
            "text/plain": [
              "<Figure size 432x288 with 1 Axes>"
            ]
          },
          "metadata": {
            "needs_background": "light"
          }
        }
      ],
      "source": [
        "sns.boxplot(x=\"Intensity\", y=\"Throughput\", data=df)"
      ]
    },
    {
      "cell_type": "code",
      "execution_count": null,
      "metadata": {
        "colab": {
          "base_uri": "https://localhost:8080/",
          "height": 296
        },
        "id": "UHEpBCU-pouD",
        "outputId": "cd369b00-ac5b-453a-80fa-6c0fb9042e2f"
      },
      "outputs": [
        {
          "output_type": "execute_result",
          "data": {
            "text/plain": [
              "<matplotlib.axes._subplots.AxesSubplot at 0x7ff0da9fc050>"
            ]
          },
          "metadata": {},
          "execution_count": 13
        },
        {
          "output_type": "display_data",
          "data": {
            "image/png": "[encoded data removed]",
            "text/plain": [
              "<Figure size 432x288 with 1 Axes>"
            ]
          },
          "metadata": {
            "needs_background": "light"
          }
        }
      ],
      "source": [
        "sns.boxplot(x=\"Intensity\", y=\"Latency\", data=df)"
      ]
    },
    {
      "cell_type": "markdown",
      "metadata": {
        "id": "SUoDrlNgR-LH"
      },
      "source": [
        "## Data Preprocessing"
      ]
    },
    {
      "cell_type": "code",
      "execution_count": null,
      "metadata": {
        "id": "ntDBSGoemyq2"
      },
      "outputs": [],
      "source": [
        "# df.drop('Number_of_peers', axis=1, inplace=True)\n",
        "df_output = df.copy()\n",
        "\n",
        "#drop latency beuse it's output variable and can not be used as input featuers for another outputs\n",
        "df_output.drop('Latency', axis=1, inplace=True)\n",
        "\n",
        "#First approch (default)\n",
        "# Make dummies for our catagorial variables to make it able to insert to machine learning models\n",
        "df_ouput_dum = pd.get_dummies(df_output, prefix=['Intensity','mac_type'], columns=['Intensity','mac_type'])\n",
        "\n",
        "#uncomment next line to show all values\n",
        "# df_ouput_dum"
      ]
    },
    {
      "cell_type": "code",
      "execution_count": null,
      "metadata": {
        "id": "P9dZn52kqQxj"
      },
      "outputs": [],
      "source": [
        "#Second approch\n",
        "# We will try to convert the intenisty to ordinal numbers and see the difference in accurcy using pycaret \n",
        "df_ouput_ord = df_output.copy()\n",
        "df_ouput_ord = df_ouput_ord.replace({\"Intensity\":{\"Low\": 23600, \"Medium\": 35788, \"High\":143362 }})\n",
        "df_ouput_ord = df_ouput_ord.replace({\"mac_type\":{\"m1.medium\": 2, \"m1.large\": 4, \"m1.xlarge\":8 }})\n",
        "# df_ouput_ord['prod'] = df_ouput_ord['Number_of_peers']* df_ouput_ord['Bandwidth']\n",
        "# df_ouput_ord.drop(['Number_of_peers','Bandwidth'], axis=1, inplace=True)\n",
        "#uncomment next line to show all values\n",
        "# df_ouput_ord"
      ]
    },
    {
      "cell_type": "markdown",
      "metadata": {
        "id": "DYKafaqw9_Dn"
      },
      "source": [
        "## Feature selection based on select from model function\n",
        "\n",
        "---\n",
        "\n"
      ]
    },
    {
      "cell_type": "code",
      "execution_count": null,
      "metadata": {
        "colab": {
          "base_uri": "https://localhost:8080/",
          "height": 206
        },
        "id": "iJIPg-i7ArJV",
        "outputId": "2a0abc48-1f55-4887-e243-569bd6a770e1"
      },
      "outputs": [
        {
          "output_type": "execute_result",
          "data": {
            "text/html": [
              "\n",
              "  <div id=\"df-ad813126-b486-4c79-b880-2ef13d20a913\">\n",
              "    <div class=\"colab-df-container\">\n",
              "      <div>\n",
              "<style scoped>\n",
              "    .dataframe tbody tr th:only-of-type {\n",
              "        vertical-align: middle;\n",
              "    }\n",
              "\n",
              "    .dataframe tbody tr th {\n",
              "        vertical-align: top;\n",
              "    }\n",
              "\n",
              "    .dataframe thead th {\n",
              "        text-align: right;\n",
              "    }\n",
              "</style>\n",
              "<table border=\"1\" class=\"dataframe\">\n",
              "  <thead>\n",
              "    <tr style=\"text-align: right;\">\n",
              "      <th></th>\n",
              "      <th>Block_period</th>\n",
              "      <th>Block_size</th>\n",
              "      <th>Number_of_peers</th>\n",
              "      <th>Bandwidth_gbps</th>\n",
              "      <th>Intensity_High</th>\n",
              "      <th>Intensity_Low</th>\n",
              "      <th>Intensity_Medium</th>\n",
              "      <th>mac_type_m1.large</th>\n",
              "      <th>mac_type_m1.medium</th>\n",
              "      <th>mac_type_m1.xlarge</th>\n",
              "    </tr>\n",
              "  </thead>\n",
              "  <tbody>\n",
              "    <tr>\n",
              "      <th>0</th>\n",
              "      <td>1.0</td>\n",
              "      <td>13.0</td>\n",
              "      <td>1.0</td>\n",
              "      <td>1.000</td>\n",
              "      <td>1</td>\n",
              "      <td>0</td>\n",
              "      <td>0</td>\n",
              "      <td>0</td>\n",
              "      <td>1</td>\n",
              "      <td>0</td>\n",
              "    </tr>\n",
              "    <tr>\n",
              "      <th>1</th>\n",
              "      <td>2.0</td>\n",
              "      <td>13.0</td>\n",
              "      <td>2.0</td>\n",
              "      <td>0.979</td>\n",
              "      <td>1</td>\n",
              "      <td>0</td>\n",
              "      <td>0</td>\n",
              "      <td>0</td>\n",
              "      <td>1</td>\n",
              "      <td>0</td>\n",
              "    </tr>\n",
              "    <tr>\n",
              "      <th>2</th>\n",
              "      <td>3.0</td>\n",
              "      <td>13.0</td>\n",
              "      <td>4.0</td>\n",
              "      <td>0.900</td>\n",
              "      <td>1</td>\n",
              "      <td>0</td>\n",
              "      <td>0</td>\n",
              "      <td>0</td>\n",
              "      <td>1</td>\n",
              "      <td>0</td>\n",
              "    </tr>\n",
              "    <tr>\n",
              "      <th>3</th>\n",
              "      <td>4.0</td>\n",
              "      <td>13.0</td>\n",
              "      <td>8.0</td>\n",
              "      <td>0.800</td>\n",
              "      <td>1</td>\n",
              "      <td>0</td>\n",
              "      <td>0</td>\n",
              "      <td>0</td>\n",
              "      <td>1</td>\n",
              "      <td>0</td>\n",
              "    </tr>\n",
              "    <tr>\n",
              "      <th>4</th>\n",
              "      <td>5.0</td>\n",
              "      <td>13.0</td>\n",
              "      <td>16.0</td>\n",
              "      <td>0.700</td>\n",
              "      <td>1</td>\n",
              "      <td>0</td>\n",
              "      <td>0</td>\n",
              "      <td>0</td>\n",
              "      <td>1</td>\n",
              "      <td>0</td>\n",
              "    </tr>\n",
              "  </tbody>\n",
              "</table>\n",
              "</div>\n",
              "      <button class=\"colab-df-convert\" onclick=\"convertToInteractive('df-ad813126-b486-4c79-b880-2ef13d20a913')\"\n",
              "              title=\"Convert this dataframe to an interactive table.\"\n",
              "              style=\"display:none;\">\n",
              "        \n",
              "  <svg xmlns=\"http://www.w3.org/2000/svg\" height=\"24px\"viewBox=\"0 0 24 24\"\n",
              "       width=\"24px\">\n",
              "    <path d=\"M0 0h24v24H0V0z\" fill=\"none\"/>\n",
              "    <path d=\"M18.56 5.44l.94 2.06.94-2.06 2.06-.94-2.06-.94-.94-2.06-.94 2.06-2.06.94zm-11 1L8.5 8.5l.94-2.06 2.06-.94-2.06-.94L8.5 2.5l-.94 2.06-2.06.94zm10 10l.94 2.06.94-2.06 2.06-.94-2.06-.94-.94-2.06-.94 2.06-2.06.94z\"/><path d=\"M17.41 7.96l-1.37-1.37c-.4-.4-.92-.59-1.43-.59-.52 0-1.04.2-1.43.59L10.3 9.45l-7.72 7.72c-.78.78-.78 2.05 0 2.83L4 21.41c.39.39.9.59 1.41.59.51 0 1.02-.2 1.41-.59l7.78-7.78 2.81-2.81c.8-.78.8-2.07 0-2.86zM5.41 20L4 18.59l7.72-7.72 1.47 1.35L5.41 20z\"/>\n",
              "  </svg>\n",
              "      </button>\n",
              "      \n",
              "  <style>\n",
              "    .colab-df-container {\n",
              "      display:flex;\n",
              "      flex-wrap:wrap;\n",
              "      gap: 12px;\n",
              "    }\n",
              "\n",
              "    .colab-df-convert {\n",
              "      background-color: #E8F0FE;\n",
              "      border: none;\n",
              "      border-radius: 50%;\n",
              "      cursor: pointer;\n",
              "      display: none;\n",
              "      fill: #1967D2;\n",
              "      height: 32px;\n",
              "      padding: 0 0 0 0;\n",
              "      width: 32px;\n",
              "    }\n",
              "\n",
              "    .colab-df-convert:hover {\n",
              "      background-color: #E2EBFA;\n",
              "      box-shadow: 0px 1px 2px rgba(60, 64, 67, 0.3), 0px 1px 3px 1px rgba(60, 64, 67, 0.15);\n",
              "      fill: #174EA6;\n",
              "    }\n",
              "\n",
              "    [theme=dark] .colab-df-convert {\n",
              "      background-color: #3B4455;\n",
              "      fill: #D2E3FC;\n",
              "    }\n",
              "\n",
              "    [theme=dark] .colab-df-convert:hover {\n",
              "      background-color: #434B5C;\n",
              "      box-shadow: 0px 1px 3px 1px rgba(0, 0, 0, 0.15);\n",
              "      filter: drop-shadow(0px 1px 2px rgba(0, 0, 0, 0.3));\n",
              "      fill: #FFFFFF;\n",
              "    }\n",
              "  </style>\n",
              "\n",
              "      <script>\n",
              "        const buttonEl =\n",
              "          document.querySelector('#df-ad813126-b486-4c79-b880-2ef13d20a913 button.colab-df-convert');\n",
              "        buttonEl.style.display =\n",
              "          google.colab.kernel.accessAllowed ? 'block' : 'none';\n",
              "\n",
              "        async function convertToInteractive(key) {\n",
              "          const element = document.querySelector('#df-ad813126-b486-4c79-b880-2ef13d20a913');\n",
              "          const dataTable =\n",
              "            await google.colab.kernel.invokeFunction('convertToInteractive',\n",
              "                                                     [key], {});\n",
              "          if (!dataTable) return;\n",
              "\n",
              "          const docLinkHtml = 'Like what you see? Visit the ' +\n",
              "            '<a target=\"_blank\" href=https://colab.research.google.com/notebooks/data_table.ipynb>data table notebook</a>'\n",
              "            + ' to learn more about interactive tables.';\n",
              "          element.innerHTML = '';\n",
              "          dataTable['output_type'] = 'display_data';\n",
              "          await google.colab.output.renderOutput(dataTable, element);\n",
              "          const docLink = document.createElement('div');\n",
              "          docLink.innerHTML = docLinkHtml;\n",
              "          element.appendChild(docLink);\n",
              "        }\n",
              "      </script>\n",
              "    </div>\n",
              "  </div>\n",
              "  "
            ],
            "text/plain": [
              "   Block_period  Block_size  ...  mac_type_m1.medium  mac_type_m1.xlarge\n",
              "0           1.0        13.0  ...                   1                   0\n",
              "1           2.0        13.0  ...                   1                   0\n",
              "2           3.0        13.0  ...                   1                   0\n",
              "3           4.0        13.0  ...                   1                   0\n",
              "4           5.0        13.0  ...                   1                   0\n",
              "\n",
              "[5 rows x 10 columns]"
            ]
          },
          "metadata": {},
          "execution_count": 16
        }
      ],
      "source": [
        "#for Not featuered engineer data\n",
        "x_nonfe = df_ouput_dum.copy()\n",
        "x_nonfe.drop(columns = ['Throughput','Ratio of bandwidth to number of peers'],inplace = True)\n",
        "x_nonfe.head()"
      ]
    },
    {
      "cell_type": "code",
      "execution_count": null,
      "metadata": {
        "colab": {
          "base_uri": "https://localhost:8080/",
          "height": 206
        },
        "id": "3UxBPZAWPY13",
        "outputId": "8314af0d-8c7a-4a40-a464-a85d8573d0b0"
      },
      "outputs": [
        {
          "output_type": "execute_result",
          "data": {
            "text/html": [
              "\n",
              "  <div id=\"df-103c99ac-7694-413d-8efe-346fa8b6d063\">\n",
              "    <div class=\"colab-df-container\">\n",
              "      <div>\n",
              "<style scoped>\n",
              "    .dataframe tbody tr th:only-of-type {\n",
              "        vertical-align: middle;\n",
              "    }\n",
              "\n",
              "    .dataframe tbody tr th {\n",
              "        vertical-align: top;\n",
              "    }\n",
              "\n",
              "    .dataframe thead th {\n",
              "        text-align: right;\n",
              "    }\n",
              "</style>\n",
              "<table border=\"1\" class=\"dataframe\">\n",
              "  <thead>\n",
              "    <tr style=\"text-align: right;\">\n",
              "      <th></th>\n",
              "      <th>Block_period</th>\n",
              "      <th>Block_size</th>\n",
              "      <th>Intensity</th>\n",
              "      <th>Throughput</th>\n",
              "      <th>mac_type</th>\n",
              "      <th>Number_of_peers</th>\n",
              "      <th>Bandwidth_gbps</th>\n",
              "      <th>Ratio of bandwidth to number of peers</th>\n",
              "    </tr>\n",
              "  </thead>\n",
              "  <tbody>\n",
              "    <tr>\n",
              "      <th>0</th>\n",
              "      <td>1.0</td>\n",
              "      <td>13.0</td>\n",
              "      <td>143362</td>\n",
              "      <td>89.0</td>\n",
              "      <td>2</td>\n",
              "      <td>1.0</td>\n",
              "      <td>1.000</td>\n",
              "      <td>1.00</td>\n",
              "    </tr>\n",
              "    <tr>\n",
              "      <th>1</th>\n",
              "      <td>2.0</td>\n",
              "      <td>13.0</td>\n",
              "      <td>143362</td>\n",
              "      <td>43.0</td>\n",
              "      <td>2</td>\n",
              "      <td>2.0</td>\n",
              "      <td>0.979</td>\n",
              "      <td>0.49</td>\n",
              "    </tr>\n",
              "    <tr>\n",
              "      <th>2</th>\n",
              "      <td>3.0</td>\n",
              "      <td>13.0</td>\n",
              "      <td>143362</td>\n",
              "      <td>28.0</td>\n",
              "      <td>2</td>\n",
              "      <td>4.0</td>\n",
              "      <td>0.900</td>\n",
              "      <td>0.23</td>\n",
              "    </tr>\n",
              "    <tr>\n",
              "      <th>3</th>\n",
              "      <td>4.0</td>\n",
              "      <td>13.0</td>\n",
              "      <td>143362</td>\n",
              "      <td>20.0</td>\n",
              "      <td>2</td>\n",
              "      <td>8.0</td>\n",
              "      <td>0.800</td>\n",
              "      <td>0.10</td>\n",
              "    </tr>\n",
              "    <tr>\n",
              "      <th>4</th>\n",
              "      <td>5.0</td>\n",
              "      <td>13.0</td>\n",
              "      <td>143362</td>\n",
              "      <td>17.0</td>\n",
              "      <td>2</td>\n",
              "      <td>16.0</td>\n",
              "      <td>0.700</td>\n",
              "      <td>0.04</td>\n",
              "    </tr>\n",
              "  </tbody>\n",
              "</table>\n",
              "</div>\n",
              "      <button class=\"colab-df-convert\" onclick=\"convertToInteractive('df-103c99ac-7694-413d-8efe-346fa8b6d063')\"\n",
              "              title=\"Convert this dataframe to an interactive table.\"\n",
              "              style=\"display:none;\">\n",
              "        \n",
              "  <svg xmlns=\"http://www.w3.org/2000/svg\" height=\"24px\"viewBox=\"0 0 24 24\"\n",
              "       width=\"24px\">\n",
              "    <path d=\"M0 0h24v24H0V0z\" fill=\"none\"/>\n",
              "    <path d=\"M18.56 5.44l.94 2.06.94-2.06 2.06-.94-2.06-.94-.94-2.06-.94 2.06-2.06.94zm-11 1L8.5 8.5l.94-2.06 2.06-.94-2.06-.94L8.5 2.5l-.94 2.06-2.06.94zm10 10l.94 2.06.94-2.06 2.06-.94-2.06-.94-.94-2.06-.94 2.06-2.06.94z\"/><path d=\"M17.41 7.96l-1.37-1.37c-.4-.4-.92-.59-1.43-.59-.52 0-1.04.2-1.43.59L10.3 9.45l-7.72 7.72c-.78.78-.78 2.05 0 2.83L4 21.41c.39.39.9.59 1.41.59.51 0 1.02-.2 1.41-.59l7.78-7.78 2.81-2.81c.8-.78.8-2.07 0-2.86zM5.41 20L4 18.59l7.72-7.72 1.47 1.35L5.41 20z\"/>\n",
              "  </svg>\n",
              "      </button>\n",
              "      \n",
              "  <style>\n",
              "    .colab-df-container {\n",
              "      display:flex;\n",
              "      flex-wrap:wrap;\n",
              "      gap: 12px;\n",
              "    }\n",
              "\n",
              "    .colab-df-convert {\n",
              "      background-color: #E8F0FE;\n",
              "      border: none;\n",
              "      border-radius: 50%;\n",
              "      cursor: pointer;\n",
              "      display: none;\n",
              "      fill: #1967D2;\n",
              "      height: 32px;\n",
              "      padding: 0 0 0 0;\n",
              "      width: 32px;\n",
              "    }\n",
              "\n",
              "    .colab-df-convert:hover {\n",
              "      background-color: #E2EBFA;\n",
              "      box-shadow: 0px 1px 2px rgba(60, 64, 67, 0.3), 0px 1px 3px 1px rgba(60, 64, 67, 0.15);\n",
              "      fill: #174EA6;\n",
              "    }\n",
              "\n",
              "    [theme=dark] .colab-df-convert {\n",
              "      background-color: #3B4455;\n",
              "      fill: #D2E3FC;\n",
              "    }\n",
              "\n",
              "    [theme=dark] .colab-df-convert:hover {\n",
              "      background-color: #434B5C;\n",
              "      box-shadow: 0px 1px 3px 1px rgba(0, 0, 0, 0.15);\n",
              "      filter: drop-shadow(0px 1px 2px rgba(0, 0, 0, 0.3));\n",
              "      fill: #FFFFFF;\n",
              "    }\n",
              "  </style>\n",
              "\n",
              "      <script>\n",
              "        const buttonEl =\n",
              "          document.querySelector('#df-103c99ac-7694-413d-8efe-346fa8b6d063 button.colab-df-convert');\n",
              "        buttonEl.style.display =\n",
              "          google.colab.kernel.accessAllowed ? 'block' : 'none';\n",
              "\n",
              "        async function convertToInteractive(key) {\n",
              "          const element = document.querySelector('#df-103c99ac-7694-413d-8efe-346fa8b6d063');\n",
              "          const dataTable =\n",
              "            await google.colab.kernel.invokeFunction('convertToInteractive',\n",
              "                                                     [key], {});\n",
              "          if (!dataTable) return;\n",
              "\n",
              "          const docLinkHtml = 'Like what you see? Visit the ' +\n",
              "            '<a target=\"_blank\" href=https://colab.research.google.com/notebooks/data_table.ipynb>data table notebook</a>'\n",
              "            + ' to learn more about interactive tables.';\n",
              "          element.innerHTML = '';\n",
              "          dataTable['output_type'] = 'display_data';\n",
              "          await google.colab.output.renderOutput(dataTable, element);\n",
              "          const docLink = document.createElement('div');\n",
              "          docLink.innerHTML = docLinkHtml;\n",
              "          element.appendChild(docLink);\n",
              "        }\n",
              "      </script>\n",
              "    </div>\n",
              "  </div>\n",
              "  "
            ],
            "text/plain": [
              "   Block_period  ...  Ratio of bandwidth to number of peers\n",
              "0           1.0  ...                                   1.00\n",
              "1           2.0  ...                                   0.49\n",
              "2           3.0  ...                                   0.23\n",
              "3           4.0  ...                                   0.10\n",
              "4           5.0  ...                                   0.04\n",
              "\n",
              "[5 rows x 8 columns]"
            ]
          },
          "metadata": {},
          "execution_count": 17
        }
      ],
      "source": [
        "#create dummy variables to test if featuer selection will erase them or not\n",
        "dummy_df = df_ouput_ord.copy()\n",
        "# np.random.seed(2)\n",
        "# dummy_df['dummy1'] = np.random.choice([.001,.002,.005,.008,300000,.905,6000,4.5,2.005], size=190)\n",
        "# dummy_df['dummy2'] = np.random.choice([.000001,10,10.5,10.6,.1255,5000,4.5,1.01], size=190)\n",
        "# dummy_df['dummy3'] = np.random.choice([.001,10,1000,.141,.1255,5000,4.5,1.001,2,3,4], size=190)\n",
        "# dummy_df['dummy4'] = np.random.choice([0,1,10,50], size=190)\n",
        "\n",
        "#cretae catagorial dunny variable\n",
        "# dummy_df['dummy5'] = np.random.choice(['hima','govind','bi'], size=190)\n",
        "# dummy_df = pd.get_dummies(dummy_df, prefix=['dummy5'], columns=['dummy5'])\n",
        "\n",
        "dummy_df.head()"
      ]
    },
    {
      "cell_type": "code",
      "execution_count": null,
      "metadata": {
        "colab": {
          "base_uri": "https://localhost:8080/",
          "height": 206
        },
        "id": "GmOLfbpLg4Rh",
        "outputId": "78cb0242-7f34-4be3-a7f8-1ae5551ea602"
      },
      "outputs": [
        {
          "output_type": "execute_result",
          "data": {
            "text/html": [
              "\n",
              "  <div id=\"df-08fb9343-38d1-45b5-a394-273bc9bee06d\">\n",
              "    <div class=\"colab-df-container\">\n",
              "      <div>\n",
              "<style scoped>\n",
              "    .dataframe tbody tr th:only-of-type {\n",
              "        vertical-align: middle;\n",
              "    }\n",
              "\n",
              "    .dataframe tbody tr th {\n",
              "        vertical-align: top;\n",
              "    }\n",
              "\n",
              "    .dataframe thead th {\n",
              "        text-align: right;\n",
              "    }\n",
              "</style>\n",
              "<table border=\"1\" class=\"dataframe\">\n",
              "  <thead>\n",
              "    <tr style=\"text-align: right;\">\n",
              "      <th></th>\n",
              "      <th>Block_period</th>\n",
              "      <th>Block_size</th>\n",
              "      <th>Intensity</th>\n",
              "      <th>mac_type</th>\n",
              "      <th>Number_of_peers</th>\n",
              "      <th>Bandwidth_gbps</th>\n",
              "      <th>Ratio of bandwidth to number of peers</th>\n",
              "    </tr>\n",
              "  </thead>\n",
              "  <tbody>\n",
              "    <tr>\n",
              "      <th>0</th>\n",
              "      <td>1.0</td>\n",
              "      <td>13.0</td>\n",
              "      <td>143362</td>\n",
              "      <td>2</td>\n",
              "      <td>1.0</td>\n",
              "      <td>1.000</td>\n",
              "      <td>1.00</td>\n",
              "    </tr>\n",
              "    <tr>\n",
              "      <th>1</th>\n",
              "      <td>2.0</td>\n",
              "      <td>13.0</td>\n",
              "      <td>143362</td>\n",
              "      <td>2</td>\n",
              "      <td>2.0</td>\n",
              "      <td>0.979</td>\n",
              "      <td>0.49</td>\n",
              "    </tr>\n",
              "    <tr>\n",
              "      <th>2</th>\n",
              "      <td>3.0</td>\n",
              "      <td>13.0</td>\n",
              "      <td>143362</td>\n",
              "      <td>2</td>\n",
              "      <td>4.0</td>\n",
              "      <td>0.900</td>\n",
              "      <td>0.23</td>\n",
              "    </tr>\n",
              "    <tr>\n",
              "      <th>3</th>\n",
              "      <td>4.0</td>\n",
              "      <td>13.0</td>\n",
              "      <td>143362</td>\n",
              "      <td>2</td>\n",
              "      <td>8.0</td>\n",
              "      <td>0.800</td>\n",
              "      <td>0.10</td>\n",
              "    </tr>\n",
              "    <tr>\n",
              "      <th>4</th>\n",
              "      <td>5.0</td>\n",
              "      <td>13.0</td>\n",
              "      <td>143362</td>\n",
              "      <td>2</td>\n",
              "      <td>16.0</td>\n",
              "      <td>0.700</td>\n",
              "      <td>0.04</td>\n",
              "    </tr>\n",
              "  </tbody>\n",
              "</table>\n",
              "</div>\n",
              "      <button class=\"colab-df-convert\" onclick=\"convertToInteractive('df-08fb9343-38d1-45b5-a394-273bc9bee06d')\"\n",
              "              title=\"Convert this dataframe to an interactive table.\"\n",
              "              style=\"display:none;\">\n",
              "        \n",
              "  <svg xmlns=\"http://www.w3.org/2000/svg\" height=\"24px\"viewBox=\"0 0 24 24\"\n",
              "       width=\"24px\">\n",
              "    <path d=\"M0 0h24v24H0V0z\" fill=\"none\"/>\n",
              "    <path d=\"M18.56 5.44l.94 2.06.94-2.06 2.06-.94-2.06-.94-.94-2.06-.94 2.06-2.06.94zm-11 1L8.5 8.5l.94-2.06 2.06-.94-2.06-.94L8.5 2.5l-.94 2.06-2.06.94zm10 10l.94 2.06.94-2.06 2.06-.94-2.06-.94-.94-2.06-.94 2.06-2.06.94z\"/><path d=\"M17.41 7.96l-1.37-1.37c-.4-.4-.92-.59-1.43-.59-.52 0-1.04.2-1.43.59L10.3 9.45l-7.72 7.72c-.78.78-.78 2.05 0 2.83L4 21.41c.39.39.9.59 1.41.59.51 0 1.02-.2 1.41-.59l7.78-7.78 2.81-2.81c.8-.78.8-2.07 0-2.86zM5.41 20L4 18.59l7.72-7.72 1.47 1.35L5.41 20z\"/>\n",
              "  </svg>\n",
              "      </button>\n",
              "      \n",
              "  <style>\n",
              "    .colab-df-container {\n",
              "      display:flex;\n",
              "      flex-wrap:wrap;\n",
              "      gap: 12px;\n",
              "    }\n",
              "\n",
              "    .colab-df-convert {\n",
              "      background-color: #E8F0FE;\n",
              "      border: none;\n",
              "      border-radius: 50%;\n",
              "      cursor: pointer;\n",
              "      display: none;\n",
              "      fill: #1967D2;\n",
              "      height: 32px;\n",
              "      padding: 0 0 0 0;\n",
              "      width: 32px;\n",
              "    }\n",
              "\n",
              "    .colab-df-convert:hover {\n",
              "      background-color: #E2EBFA;\n",
              "      box-shadow: 0px 1px 2px rgba(60, 64, 67, 0.3), 0px 1px 3px 1px rgba(60, 64, 67, 0.15);\n",
              "      fill: #174EA6;\n",
              "    }\n",
              "\n",
              "    [theme=dark] .colab-df-convert {\n",
              "      background-color: #3B4455;\n",
              "      fill: #D2E3FC;\n",
              "    }\n",
              "\n",
              "    [theme=dark] .colab-df-convert:hover {\n",
              "      background-color: #434B5C;\n",
              "      box-shadow: 0px 1px 3px 1px rgba(0, 0, 0, 0.15);\n",
              "      filter: drop-shadow(0px 1px 2px rgba(0, 0, 0, 0.3));\n",
              "      fill: #FFFFFF;\n",
              "    }\n",
              "  </style>\n",
              "\n",
              "      <script>\n",
              "        const buttonEl =\n",
              "          document.querySelector('#df-08fb9343-38d1-45b5-a394-273bc9bee06d button.colab-df-convert');\n",
              "        buttonEl.style.display =\n",
              "          google.colab.kernel.accessAllowed ? 'block' : 'none';\n",
              "\n",
              "        async function convertToInteractive(key) {\n",
              "          const element = document.querySelector('#df-08fb9343-38d1-45b5-a394-273bc9bee06d');\n",
              "          const dataTable =\n",
              "            await google.colab.kernel.invokeFunction('convertToInteractive',\n",
              "                                                     [key], {});\n",
              "          if (!dataTable) return;\n",
              "\n",
              "          const docLinkHtml = 'Like what you see? Visit the ' +\n",
              "            '<a target=\"_blank\" href=https://colab.research.google.com/notebooks/data_table.ipynb>data table notebook</a>'\n",
              "            + ' to learn more about interactive tables.';\n",
              "          element.innerHTML = '';\n",
              "          dataTable['output_type'] = 'display_data';\n",
              "          await google.colab.output.renderOutput(dataTable, element);\n",
              "          const docLink = document.createElement('div');\n",
              "          docLink.innerHTML = docLinkHtml;\n",
              "          element.appendChild(docLink);\n",
              "        }\n",
              "      </script>\n",
              "    </div>\n",
              "  </div>\n",
              "  "
            ],
            "text/plain": [
              "   Block_period  ...  Ratio of bandwidth to number of peers\n",
              "0           1.0  ...                                   1.00\n",
              "1           2.0  ...                                   0.49\n",
              "2           3.0  ...                                   0.23\n",
              "3           4.0  ...                                   0.10\n",
              "4           5.0  ...                                   0.04\n",
              "\n",
              "[5 rows x 7 columns]"
            ]
          },
          "metadata": {},
          "execution_count": 18
        }
      ],
      "source": [
        "#for featuered engineer approch\n",
        "#split our data to y that contain our output \"Throughput\" and to x that conatin the featuers inputs for our model\n",
        "y_output=dummy_df['Throughput']\n",
        "x_output=dummy_df.copy()\n",
        "x_output.drop(columns = ['Throughput'],inplace = True)\n",
        "x_output.head()"
      ]
    },
    {
      "cell_type": "code",
      "execution_count": null,
      "metadata": {
        "id": "HQwt0yRv90wZ"
      },
      "outputs": [],
      "source": [
        "#For regression models\n",
        "# from sklearn.feature_selection import SelectFromModel\n",
        "# from sklearn.ensemble import ExtraTreesRegressor\n",
        "\n",
        "# feature_names = np.array(x_output.columns)\n",
        "# selector = SelectFromModel(estimator=ExtraTreesRegressor(random_state=35),threshold=0.04).fit(x_output, y_output)\n",
        "# selector.estimator_.feature_importances_ "
      ]
    },
    {
      "cell_type": "code",
      "execution_count": null,
      "metadata": {
        "id": "CoNmWmQeM6vR"
      },
      "outputs": [],
      "source": [
        "# x_trans = selector.transform(x_output)\n",
        "# x_trans.shape"
      ]
    },
    {
      "cell_type": "code",
      "execution_count": null,
      "metadata": {
        "id": "lbZdQL1WQJZM"
      },
      "outputs": [],
      "source": [
        "# x_trans = pd.DataFrame(x_trans)\n",
        "# x_trans.columns = feature_names[selector.get_support()]\n",
        "# # x_trans['Ratio of Number of miners to bandwidth'] = x_output['Ratio of Number of miners to bandwidth']\n",
        "# x_trans.head()"
      ]
    },
    {
      "cell_type": "code",
      "execution_count": null,
      "metadata": {
        "colab": {
          "base_uri": "https://localhost:8080/",
          "height": 206
        },
        "id": "ZfXtV8RZZovi",
        "outputId": "b073bc8f-4175-4388-922c-cde5a0bbcc72"
      },
      "outputs": [
        {
          "output_type": "execute_result",
          "data": {
            "text/html": [
              "\n",
              "  <div id=\"df-4ea87aa8-88b2-4940-8d5f-4db663815e4a\">\n",
              "    <div class=\"colab-df-container\">\n",
              "      <div>\n",
              "<style scoped>\n",
              "    .dataframe tbody tr th:only-of-type {\n",
              "        vertical-align: middle;\n",
              "    }\n",
              "\n",
              "    .dataframe tbody tr th {\n",
              "        vertical-align: top;\n",
              "    }\n",
              "\n",
              "    .dataframe thead th {\n",
              "        text-align: right;\n",
              "    }\n",
              "</style>\n",
              "<table border=\"1\" class=\"dataframe\">\n",
              "  <thead>\n",
              "    <tr style=\"text-align: right;\">\n",
              "      <th></th>\n",
              "      <th>Block_period</th>\n",
              "      <th>Block_size</th>\n",
              "      <th>Intensity</th>\n",
              "      <th>mac_type</th>\n",
              "      <th>Ratio of bandwidth to number of peers</th>\n",
              "    </tr>\n",
              "  </thead>\n",
              "  <tbody>\n",
              "    <tr>\n",
              "      <th>0</th>\n",
              "      <td>1.0</td>\n",
              "      <td>13.0</td>\n",
              "      <td>143362</td>\n",
              "      <td>2</td>\n",
              "      <td>1.00</td>\n",
              "    </tr>\n",
              "    <tr>\n",
              "      <th>1</th>\n",
              "      <td>2.0</td>\n",
              "      <td>13.0</td>\n",
              "      <td>143362</td>\n",
              "      <td>2</td>\n",
              "      <td>0.49</td>\n",
              "    </tr>\n",
              "    <tr>\n",
              "      <th>2</th>\n",
              "      <td>3.0</td>\n",
              "      <td>13.0</td>\n",
              "      <td>143362</td>\n",
              "      <td>2</td>\n",
              "      <td>0.23</td>\n",
              "    </tr>\n",
              "    <tr>\n",
              "      <th>3</th>\n",
              "      <td>4.0</td>\n",
              "      <td>13.0</td>\n",
              "      <td>143362</td>\n",
              "      <td>2</td>\n",
              "      <td>0.10</td>\n",
              "    </tr>\n",
              "    <tr>\n",
              "      <th>4</th>\n",
              "      <td>5.0</td>\n",
              "      <td>13.0</td>\n",
              "      <td>143362</td>\n",
              "      <td>2</td>\n",
              "      <td>0.04</td>\n",
              "    </tr>\n",
              "  </tbody>\n",
              "</table>\n",
              "</div>\n",
              "      <button class=\"colab-df-convert\" onclick=\"convertToInteractive('df-4ea87aa8-88b2-4940-8d5f-4db663815e4a')\"\n",
              "              title=\"Convert this dataframe to an interactive table.\"\n",
              "              style=\"display:none;\">\n",
              "        \n",
              "  <svg xmlns=\"http://www.w3.org/2000/svg\" height=\"24px\"viewBox=\"0 0 24 24\"\n",
              "       width=\"24px\">\n",
              "    <path d=\"M0 0h24v24H0V0z\" fill=\"none\"/>\n",
              "    <path d=\"M18.56 5.44l.94 2.06.94-2.06 2.06-.94-2.06-.94-.94-2.06-.94 2.06-2.06.94zm-11 1L8.5 8.5l.94-2.06 2.06-.94-2.06-.94L8.5 2.5l-.94 2.06-2.06.94zm10 10l.94 2.06.94-2.06 2.06-.94-2.06-.94-.94-2.06-.94 2.06-2.06.94z\"/><path d=\"M17.41 7.96l-1.37-1.37c-.4-.4-.92-.59-1.43-.59-.52 0-1.04.2-1.43.59L10.3 9.45l-7.72 7.72c-.78.78-.78 2.05 0 2.83L4 21.41c.39.39.9.59 1.41.59.51 0 1.02-.2 1.41-.59l7.78-7.78 2.81-2.81c.8-.78.8-2.07 0-2.86zM5.41 20L4 18.59l7.72-7.72 1.47 1.35L5.41 20z\"/>\n",
              "  </svg>\n",
              "      </button>\n",
              "      \n",
              "  <style>\n",
              "    .colab-df-container {\n",
              "      display:flex;\n",
              "      flex-wrap:wrap;\n",
              "      gap: 12px;\n",
              "    }\n",
              "\n",
              "    .colab-df-convert {\n",
              "      background-color: #E8F0FE;\n",
              "      border: none;\n",
              "      border-radius: 50%;\n",
              "      cursor: pointer;\n",
              "      display: none;\n",
              "      fill: #1967D2;\n",
              "      height: 32px;\n",
              "      padding: 0 0 0 0;\n",
              "      width: 32px;\n",
              "    }\n",
              "\n",
              "    .colab-df-convert:hover {\n",
              "      background-color: #E2EBFA;\n",
              "      box-shadow: 0px 1px 2px rgba(60, 64, 67, 0.3), 0px 1px 3px 1px rgba(60, 64, 67, 0.15);\n",
              "      fill: #174EA6;\n",
              "    }\n",
              "\n",
              "    [theme=dark] .colab-df-convert {\n",
              "      background-color: #3B4455;\n",
              "      fill: #D2E3FC;\n",
              "    }\n",
              "\n",
              "    [theme=dark] .colab-df-convert:hover {\n",
              "      background-color: #434B5C;\n",
              "      box-shadow: 0px 1px 3px 1px rgba(0, 0, 0, 0.15);\n",
              "      filter: drop-shadow(0px 1px 2px rgba(0, 0, 0, 0.3));\n",
              "      fill: #FFFFFF;\n",
              "    }\n",
              "  </style>\n",
              "\n",
              "      <script>\n",
              "        const buttonEl =\n",
              "          document.querySelector('#df-4ea87aa8-88b2-4940-8d5f-4db663815e4a button.colab-df-convert');\n",
              "        buttonEl.style.display =\n",
              "          google.colab.kernel.accessAllowed ? 'block' : 'none';\n",
              "\n",
              "        async function convertToInteractive(key) {\n",
              "          const element = document.querySelector('#df-4ea87aa8-88b2-4940-8d5f-4db663815e4a');\n",
              "          const dataTable =\n",
              "            await google.colab.kernel.invokeFunction('convertToInteractive',\n",
              "                                                     [key], {});\n",
              "          if (!dataTable) return;\n",
              "\n",
              "          const docLinkHtml = 'Like what you see? Visit the ' +\n",
              "            '<a target=\"_blank\" href=https://colab.research.google.com/notebooks/data_table.ipynb>data table notebook</a>'\n",
              "            + ' to learn more about interactive tables.';\n",
              "          element.innerHTML = '';\n",
              "          dataTable['output_type'] = 'display_data';\n",
              "          await google.colab.output.renderOutput(dataTable, element);\n",
              "          const docLink = document.createElement('div');\n",
              "          docLink.innerHTML = docLinkHtml;\n",
              "          element.appendChild(docLink);\n",
              "        }\n",
              "      </script>\n",
              "    </div>\n",
              "  </div>\n",
              "  "
            ],
            "text/plain": [
              "   Block_period  Block_size  ...  mac_type  Ratio of bandwidth to number of peers\n",
              "0           1.0        13.0  ...         2                                   1.00\n",
              "1           2.0        13.0  ...         2                                   0.49\n",
              "2           3.0        13.0  ...         2                                   0.23\n",
              "3           4.0        13.0  ...         2                                   0.10\n",
              "4           5.0        13.0  ...         2                                   0.04\n",
              "\n",
              "[5 rows x 5 columns]"
            ]
          },
          "metadata": {},
          "execution_count": 22
        }
      ],
      "source": [
        "x_trans = x_output.copy()\n",
        "x_trans.drop(columns = ['Number_of_peers','Bandwidth_gbps'],inplace = True)\n",
        "x_trans.head()"
      ]
    },
    {
      "cell_type": "markdown",
      "metadata": {
        "id": "SwszlFcHSNyq"
      },
      "source": [
        "# Box Output Prediction and graphs"
      ]
    },
    {
      "cell_type": "markdown",
      "metadata": {
        "id": "qoSSXm7bPja0"
      },
      "source": [
        "## Comparison between different Models"
      ]
    },
    {
      "cell_type": "markdown",
      "metadata": {
        "id": "GSoWXeDMJGZ4"
      },
      "source": [
        "### setup pycaret"
      ]
    },
    {
      "cell_type": "code",
      "execution_count": null,
      "metadata": {
        "id": "305qRGc4aKuZ"
      },
      "outputs": [],
      "source": [
        "# !pip install pycaret"
      ]
    },
    {
      "cell_type": "code",
      "execution_count": null,
      "metadata": {
        "id": "4756-TDtmw_P"
      },
      "outputs": [],
      "source": [
        "# from pycaret.regression import *"
      ]
    },
    {
      "cell_type": "markdown",
      "metadata": {
        "id": "BnFNR3iRz_Zh"
      },
      "source": [
        "### Comaprison between predictions of Throughput"
      ]
    },
    {
      "cell_type": "code",
      "execution_count": null,
      "metadata": {
        "id": "WdBVzOiSmxCz"
      },
      "outputs": [],
      "source": [
        "#just make comparison without ratio featuer because it will filtered in selectfrommodel function in next cells\n",
        "# df_pycaret = df_ouput_ord.copy()\n",
        "# df_pycaret.drop(['Number_of_peers'], axis=1,inplace = True)\n",
        "# exp_reg101 = setup(data = df_pycaret, target = 'Throughput', numeric_features = ['Block_period','Block_size','Intensity','mac_type','Ratio of bandwidth to number of peers'], session_id=123)"
      ]
    },
    {
      "cell_type": "code",
      "execution_count": null,
      "metadata": {
        "id": "jTM74Tb5aAlu"
      },
      "outputs": [],
      "source": [
        "# compare_models()"
      ]
    },
    {
      "cell_type": "markdown",
      "metadata": {
        "id": "umHIw6RPQFdz"
      },
      "source": [
        "**After apply pycaret regression with intensty numirc ordinal and dummies variable we note that max accurcy for dummies approch with is with gradiant boast regressor with R2 = .93 and for numirc ordianal the best model is extra tree regressor with R2 = .94 so numirc approch is slightly better than dummies variable**"
      ]
    },
    {
      "cell_type": "markdown",
      "metadata": {
        "id": "X-CL6T-9fjlq"
      },
      "source": [
        "## Get Best Random state"
      ]
    },
    {
      "cell_type": "code",
      "execution_count": null,
      "metadata": {
        "id": "TsKho5Cv-l58"
      },
      "outputs": [],
      "source": [
        "#here I made a function that looping over different random states to get the best one that get best accurecy \n",
        "# from sklearn.ensemble import ExtraTreesRegressor\n",
        "\n",
        "# def reg_out(rand):\n",
        "#   for i in range(rand):\n",
        "#     print('random state is',i)\n",
        "#     X_train_output, X_test_output, y_train_output, y_test_output = train_test_split(x_trans, y_output, test_size = 0.2, random_state = i)\n",
        "#     reg = ExtraTreesRegressor(n_estimators=100, random_state=0,bootstrap=False, ccp_alpha=0.0, criterion='mse',\n",
        "#                         max_depth=None, max_features='auto', max_leaf_nodes=None,\n",
        "#                         max_samples=None, min_impurity_decrease=0.0,\n",
        "#                         min_samples_leaf=1,\n",
        "#                         min_samples_split=2, min_weight_fraction_leaf=0.0,n_jobs=-1, oob_score=False,\n",
        "#                         verbose=0, warm_start=False).fit(X_train_output, y_train_output)\n",
        "\n",
        "#     R2_score = reg.score(X_test_output, y_test_output)\n",
        "#     print(\"R2 score for this model is\", R2_score)\n",
        "#     y_pred_output = reg.predict(X_test_output)\n",
        "#     MSE = ((y_pred_output-y_test_output)**2).mean()\n",
        "#     RMSE = (((y_pred_output-y_test_output)**2).mean())**.5\n",
        "#     print(\"RMSE score for this model is\", RMSE)\n",
        "\n",
        "# reg_out(50)"
      ]
    },
    {
      "cell_type": "markdown",
      "metadata": {
        "id": "yD1hf5hIoKFc"
      },
      "source": [
        "## Extra Tree regressor for Throughput prediction"
      ]
    },
    {
      "cell_type": "code",
      "execution_count": null,
      "metadata": {
        "id": "1tA8igqaoKFd"
      },
      "outputs": [],
      "source": [
        "#from above equation we can note that the best random state is 1 to make model learning well and generlize for validation data\n",
        "# X_train_output, X_test_output, y_train_output, y_test_output = train_test_split(x_trans, y_output, test_size = 0.2, random_state = 12)\n",
        "# reg = ExtraTreesRegressor(n_estimators=100, random_state=0,bootstrap=False, ccp_alpha=0.0, criterion='mse',\n",
        "#                     max_depth=None, max_features='auto', max_leaf_nodes=None,\n",
        "#                     max_samples=None, min_impurity_decrease=0.0,\n",
        "#                     min_samples_leaf=1,\n",
        "#                     min_samples_split=2, min_weight_fraction_leaf=0.0,n_jobs=-1, oob_score=False,\n",
        "#                     verbose=0, warm_start=False).fit(X_train_output, y_train_output)\n",
        "\n",
        "# R2_score = reg.score(X_test_output, y_test_output)\n",
        "# print(\"R2 score for this model is\", R2_score)\n",
        "# y_pred_output = reg.predict(X_test_output)\n",
        "# MSE = ((y_pred_output-y_test_output)**2).mean()\n",
        "# RMSE = (((y_pred_output-y_test_output)**2).mean())**.5\n",
        "# print(\"RMSE score for this model is\", RMSE)"
      ]
    },
    {
      "cell_type": "code",
      "execution_count": null,
      "metadata": {
        "id": "2P8KOfjYoKFe"
      },
      "outputs": [],
      "source": [
        "# y_pred_output"
      ]
    },
    {
      "cell_type": "code",
      "execution_count": null,
      "metadata": {
        "id": "VGM49YWOoKFf"
      },
      "outputs": [],
      "source": [
        "# from sklearn.metrics import mean_squared_error\n",
        "# sk_mse_out = mean_squared_error(y_test_output, y_pred_output)\n",
        "# sk_rmse_out = sk_mse_out**.5\n",
        "# print(\"RMSE score for this model is\", sk_rmse_out)"
      ]
    },
    {
      "cell_type": "markdown",
      "metadata": {
        "id": "xXD3H1YgoKFf"
      },
      "source": [
        "### *optimization* for Extra tree model using grid search function "
      ]
    },
    {
      "cell_type": "code",
      "execution_count": null,
      "metadata": {
        "id": "tLduRPOooKFf"
      },
      "outputs": [],
      "source": [
        "# from sklearn.model_selection import GridSearchCV\n",
        "# from sklearn.metrics import make_scorer\n",
        "# from sklearn.metrics import mean_squared_error\n",
        "# from sklearn.ensemble import ExtraTreesRegressor\n",
        "# #define your own mse and set greater_is_better=False\n",
        "# # mse = make_scorer(mean_squared_error,greater_is_better=False)\n",
        "\n",
        "# etr = ExtraTreesRegressor().fit(X_train_output, y_train_output)\n",
        "                            \n",
        "# param_grid = {\n",
        "#     'n_estimators': [100,120],\n",
        "#     'criterion': ['mse', 'mae'],\n",
        "#     'max_features': ['auto','sqrt','log2'],  \n",
        "#     'min_samples_split': [1,2]\n",
        "# }\n",
        "\n",
        "# gcv = GridSearchCV(etr,param_grid,scoring='neg_root_mean_squared_error',cv=10,n_jobs=-1).fit(X_train_output,y_train_output)\n",
        "\n",
        "# print(\"Best: %f using %s\" % (gcv.best_score_, gcv.best_params_))"
      ]
    },
    {
      "cell_type": "markdown",
      "metadata": {
        "id": "a-zstWLqoKFg"
      },
      "source": [
        "**We can note here that the grid search here don't give help to us because we not able to minmize the rmse using it**"
      ]
    },
    {
      "cell_type": "markdown",
      "metadata": {
        "id": "dcs7n_-Ln1k3"
      },
      "source": [
        "## MAE Visualization"
      ]
    },
    {
      "cell_type": "code",
      "execution_count": null,
      "metadata": {
        "id": "isU-2bBJn1k4"
      },
      "outputs": [],
      "source": [
        "# from sklearn.ensemble import GradientBoostingRegressor\n",
        "# from sklearn.ensemble import ExtraTreesRegressor\n",
        "# from sklearn.ensemble import RandomForestRegressor\n",
        "# from sklearn.metrics import mean_absolute_error\n",
        "\n",
        "# def get_mae(model,x):\n",
        "#   train_size = [.1,.2,.3,.4,.5,.6,.7,.8,.9,1]\n",
        "#   mae_list = []\n",
        "\n",
        "#   #recreate dataframe from x and y_output\n",
        "#   df_output_fun = x.copy()\n",
        "#   df_output_fun['Throughput'] = y_output\n",
        "\n",
        "#   for size in train_size:\n",
        "#     #get random required size from our data\n",
        "#     df_output_sampled = df_output_fun.sample(frac=size,random_state=3)\n",
        "\n",
        "#     #x\n",
        "#     x_output_sample=df_output_sampled.copy()\n",
        "#     x_output_sample.drop(columns = ['Throughput'],inplace = True)\n",
        "\n",
        "#     #y\n",
        "#     y_output_sample=df_output_sampled[\"Throughput\"]\n",
        "\n",
        "\n",
        "#     X_train_output, X_test_output, y_train_output, y_test_output = train_test_split(x_output_sample, y_output_sample, test_size = 0.2, random_state = 2)\n",
        "#     reg = model.fit(X_train_output, y_train_output)\n",
        "#     y_pred_output = reg.predict(X_test_output)\n",
        "#     mae = mean_absolute_error(y_test_output,y_pred_output)\n",
        "#     mae_list.append(mae)\n",
        "#   return mae_list\n",
        "\n",
        "# grad_model = GradientBoostingRegressor(random_state=12)\n",
        "# et_model = ExtraTreesRegressor(random_state=12)\n",
        "# rf_model = RandomForestRegressor(random_state=12)\n",
        "# models = {'Gpr':grad_model,'et':et_model,'rf':rf_model}\n",
        "\n",
        "# #for fe data\n",
        "# mae_fe_vis = pd.DataFrame()\n",
        "# mae_fe_vis['Data size'] = ['10%','20%','30%','40%','50%','60%','70%','80%','90%','100%']\n",
        "# for model_key,model_val in models.items():\n",
        "#   mae_fe_vis[f'mae_of {model_key}'] = get_mae(model_val,x_trans)\n",
        "\n",
        "# #for nonfe data\n",
        "# mae_nonfe_vis = pd.DataFrame()\n",
        "# mae_nonfe_vis['Data size'] = ['10%','20%','30%','40%','50%','60%','70%','80%','90%','100%']\n",
        "# for model_key,model_val in models.items():\n",
        "#   mae_nonfe_vis[f'nonfe_mae_of {model_key}'] = get_mae(model_val,x_nonfe)\n",
        "\n",
        "# mae_nonfe_vis"
      ]
    },
    {
      "cell_type": "code",
      "execution_count": null,
      "metadata": {
        "id": "UEDEy-1Un1k5"
      },
      "outputs": [],
      "source": [
        "# import matplotlib.pyplot as plt\n",
        "# plt.figure(figsize=(8, 6), dpi=80)\n",
        "# plt.plot(mae_fe_vis['Data size'], mae_fe_vis['mae_of Gpr'], 'ko-',markersize=10, label='MAE of gpr')\n",
        "# plt.plot(mae_fe_vis['Data size'], mae_fe_vis['mae_of et'],'^k-',markersize=10, label='MAE of et')\n",
        "# plt.plot(mae_fe_vis['Data size'], mae_fe_vis['mae_of rf'],'Pk-',markersize=10, label='MAE of rf')\n",
        "\n",
        "# plt.plot(mae_nonfe_vis['Data size'], mae_nonfe_vis['nonfe_mae_of Gpr'], 'ko--',markersize=10, label='NoN FE MAE of gpr')\n",
        "# plt.plot(mae_nonfe_vis['Data size'], mae_nonfe_vis['nonfe_mae_of et'],'^k--',markersize=10, label='NoN FE MAE of et')\n",
        "# plt.plot(mae_nonfe_vis['Data size'], mae_nonfe_vis['nonfe_mae_of rf'],'Pk--',markersize=10, label='NoN FE MAE of rf')\n",
        "# plt.ylabel('MAE')\n",
        "# plt.xlabel('Data size')\n",
        "# plt.legend()\n",
        "# plt.show()"
      ]
    },
    {
      "cell_type": "markdown",
      "metadata": {
        "id": "JacYn0Khn1k5"
      },
      "source": [
        "## RMSE Visualization"
      ]
    },
    {
      "cell_type": "code",
      "execution_count": null,
      "metadata": {
        "id": "CV1K-PGgn1k6"
      },
      "outputs": [],
      "source": [
        "# from sklearn.ensemble import GradientBoostingRegressor\n",
        "# from sklearn.ensemble import ExtraTreesRegressor\n",
        "# from sklearn.ensemble import RandomForestRegressor\n",
        "# from sklearn.metrics import mean_absolute_error\n",
        "\n",
        "# def RMSE_model(rand,model,X,y):\n",
        "#   rmse_list = []\n",
        "#   for i in range(rand):\n",
        "#     X_train, X_test, y_train, y_test = train_test_split(X, y, test_size = 0.2, random_state = i)\n",
        "#     reg = model.fit(X_train, y_train)\n",
        "#     y_pred = reg.predict(X_test)\n",
        "#     RMSE = (((y_pred-y_test)**2).mean())**.5\n",
        "#     rmse_list.append(RMSE)\n",
        "#   return rmse_list\n",
        "\n",
        "\n",
        "# grad_model = GradientBoostingRegressor(random_state=12)\n",
        "# et_model = ExtraTreesRegressor(random_state=12)\n",
        "# rf_model = RandomForestRegressor(random_state=12)\n",
        "# models = {'Gpr':grad_model,'et':et_model,'rf':rf_model}\n",
        "\n",
        "# rmse_fe = pd.DataFrame()\n",
        "\n",
        "# #for featuered engineerd data\n",
        "# for model_key,model_val in models.items():\n",
        "#   rmse_fe[f'rmse_of {model_key}'] = RMSE_model(50,model_val,x_trans,y_output)\n",
        "\n",
        "# rmse_fe_melted=pd.melt(rmse_fe)\n",
        "# rmse_fe_melted['type'] = 'fe'\n",
        "# rmse_fe_melted.head()"
      ]
    },
    {
      "cell_type": "code",
      "execution_count": null,
      "metadata": {
        "id": "GSR8bjmXn1k6"
      },
      "outputs": [],
      "source": [
        "# #for NON featuered engineerd data\n",
        "# rmse_nonfe = pd.DataFrame()\n",
        "# for model_key,model_val in models.items():\n",
        "#   rmse_nonfe[f'rmse_of {model_key}'] = RMSE_model(50,model_val,x_output,y_output)\n",
        "\n",
        "# rmse_nonfe_melted=pd.melt(rmse_nonfe)\n",
        "# rmse_nonfe_melted['type'] = 'nonfe'\n",
        "# # rmse_nonfe_melted"
      ]
    },
    {
      "cell_type": "code",
      "execution_count": null,
      "metadata": {
        "id": "Q0tbQrD0r0HE"
      },
      "outputs": [],
      "source": [
        "# rmse_all = pd.concat([rmse_fe_melted,rmse_nonfe_melted])\n",
        "# # rmse_all"
      ]
    },
    {
      "cell_type": "code",
      "execution_count": null,
      "metadata": {
        "id": "i2TBOeYvn1k7"
      },
      "outputs": [],
      "source": [
        "# import matplotlib.pyplot as plt\n",
        "# import seaborn as sns\n",
        "# plt.figure(figsize=(8, 6), dpi=80)\n",
        "# ax = sns.boxplot(x=\"variable\", y=\"value\", hue=\"type\",\n",
        "#                  data=rmse_all, palette=\"Set3\")\n",
        "# plt.legend(loc='upper left')\n",
        "# plt.ylabel('RMSE Range')\n",
        "# plt.xlabel('Model')\n",
        "# plt.show()"
      ]
    },
    {
      "cell_type": "markdown",
      "metadata": {
        "id": "DDhyCOKXPkBy"
      },
      "source": [
        "# Latency Prediction \n"
      ]
    },
    {
      "cell_type": "markdown",
      "metadata": {
        "id": "x42qTkyp8F6E"
      },
      "source": [
        "## Data preprocessing"
      ]
    },
    {
      "cell_type": "code",
      "execution_count": null,
      "metadata": {
        "id": "Tn0AsOsk74kh"
      },
      "outputs": [],
      "source": [
        "# df_latency = df.copy()\n",
        "\n",
        "# #drop Throughput beuse it's output variable and can not be used as input featuers for another outputs\n",
        "# df_latency.drop('Throughput', axis=1, inplace=True)\n",
        "\n",
        "# #First approch\n",
        "# # Make dummies for our catagorial variables to make it able to insert to machine learning models\n",
        "# df_laten_dum = pd.get_dummies(df_latency, prefix=['Intensity'], columns=['Intensity'])\n",
        "# #uncomment next line to show all values\n",
        "# # df_laten_dum"
      ]
    },
    {
      "cell_type": "code",
      "execution_count": null,
      "metadata": {
        "id": "tqQSM6oxPjiU"
      },
      "outputs": [],
      "source": [
        "# #Secound approch\n",
        "# #for numircal ordinal variable approche\n",
        "# df_laten_ord = df_latency.copy()\n",
        "# df_laten_ord = df_laten_ord.replace({\"Intensity\":{\"Low\": 23600, \"Medium\": 35788, \"High\":143362 }})\n",
        "# df_laten_ord = df_laten_ord.replace({\"mac_type\":{\"m1.medium\": 2, \"m1.large\": 4, \"m1.xlarge\":8 }})\n",
        "\n",
        "# #uncomment one of next line to show it's values\n",
        "# # df_laten_ord"
      ]
    },
    {
      "cell_type": "markdown",
      "metadata": {
        "id": "LpP-pyEk8A8t"
      },
      "source": [
        "## Comparison between different models in pycaret"
      ]
    },
    {
      "cell_type": "code",
      "execution_count": null,
      "metadata": {
        "id": "DfVUUKQHPPkb"
      },
      "outputs": [],
      "source": [
        "# #just make comparison without ratio featuer because it will filtered in selectfrommodel function in next cells\n",
        "# df_pycaret = df_ouput_ord.copy()\n",
        "# df_pycaret.drop('Ratio of bandwidth to number of peers', axis=1,inplace = True)\n",
        "# exp_reg101 = setup(data = df_laten_ord, target = 'Latency', numeric_features = ['Block_period','Block_size','Intensity','mac_type'], session_id=123)"
      ]
    },
    {
      "cell_type": "code",
      "execution_count": null,
      "metadata": {
        "id": "gpqCV7CFQzA0"
      },
      "outputs": [],
      "source": [
        "# compare_models()"
      ]
    },
    {
      "cell_type": "markdown",
      "metadata": {
        "id": "IC3mwNfXDQBp"
      },
      "source": [
        "## Feature selection based on select from model function For latency\n"
      ]
    },
    {
      "cell_type": "code",
      "execution_count": null,
      "metadata": {
        "id": "0RiwT0a5AiyG"
      },
      "outputs": [],
      "source": [
        "# #create dummy variables to test if featuer selection will erase them or not\n",
        "# dummy_lat_df = df_laten_ord.copy()\n",
        "# # np.random.seed(2)\n",
        "# # dummy_lat_df['dummy1'] = np.random.choice([.001,.002,.005,.008,300000,.905,6000,4.5,2.005], size=190)\n",
        "# # dummy_lat_df['dummy2'] = np.random.choice([.000001,10,10.5,10.6,.1255,5000,4.5,1.01], size=190)\n",
        "# # dummy_lat_df['dummy3'] = np.random.choice([.001,10,1000,.141,.1255,5000,4.5,1.001,2,3,4], size=190)\n",
        "# # dummy_lat_df['dummy4'] = np.random.choice([0,1,10,50], size=190)\n",
        "\n",
        "# # #cretae catagorial dunny variable\n",
        "# # dummy_lat_df['dummy5'] = np.random.choice(['hima','govind','bi'], size=190)\n",
        "# # dummy_lat_df = pd.get_dummies(dummy_lat_df, prefix=['dummy5'], columns=['dummy5'])\n",
        "# dummy_lat_df.head()"
      ]
    },
    {
      "cell_type": "code",
      "execution_count": null,
      "metadata": {
        "id": "glqZhXxzU_qU"
      },
      "outputs": [],
      "source": [
        "# #split our data to y that contain our output \"Latency\" and to x that conatin the featuers inputs for our model\n",
        "# y_lat=dummy_lat_df[\"Latency\"]\n",
        "# x_lat=dummy_lat_df.copy()\n",
        "# x_lat.drop(columns = ['Latency'],inplace = True)\n",
        "# # x_lat.head()\n",
        "\n",
        "# #split x,y to train and test to measure the accurcy of the model\n",
        "# X_train_lat, X_test_lat, y_train_lat, y_test_lat = train_test_split(x_lat, y_lat, test_size = .2, random_state = 43)"
      ]
    },
    {
      "cell_type": "code",
      "execution_count": null,
      "metadata": {
        "id": "nvobiUcHCG7a"
      },
      "outputs": [],
      "source": [
        "# #As featuer engineering we will use the featuers got from pervious featuer engineer in output prdiction\n",
        "# x_trans.head()"
      ]
    },
    {
      "cell_type": "markdown",
      "metadata": {
        "id": "m_-TgKxGGtPz"
      },
      "source": [
        "## Extra Tree Regressor for Latency"
      ]
    },
    {
      "cell_type": "code",
      "execution_count": null,
      "metadata": {
        "id": "Xy4QzxERCG7b"
      },
      "outputs": [],
      "source": [
        "# #here I made a function that looping over different random states to get the best one that get best accurecy \n",
        "# from sklearn.ensemble import ExtraTreesRegressor\n",
        "\n",
        "# def reg_out(rand):\n",
        "#   for i in range(rand):\n",
        "#     print('random state is',i)\n",
        "#     X_train_lat, X_test_lat, y_train_lat, y_test_lat = train_test_split(x_trans, y_lat, test_size = .2, random_state = i)\n",
        "#     reg = ExtraTreesRegressor(n_estimators=100, random_state=0,bootstrap=False, ccp_alpha=0.0, criterion='mse',\n",
        "#                         max_depth=None, max_features='auto', max_leaf_nodes=None,\n",
        "#                         max_samples=None, min_impurity_decrease=0.0,\n",
        "#                         min_samples_leaf=1,\n",
        "#                         min_samples_split=2, min_weight_fraction_leaf=0.0,n_jobs=-1, oob_score=False,\n",
        "#                         verbose=0, warm_start=False).fit(X_train_lat, y_train_lat)\n",
        "\n",
        "#     R2_score = reg.score(X_test_lat, y_test_lat)\n",
        "#     print(\"R2 score for this model is\", R2_score)\n",
        "#     y_pred_lat = reg.predict(X_test_lat)\n",
        "#     MSE = ((y_pred_lat-y_test_lat)**2).mean()\n",
        "#     RMSE = (((y_pred_lat-y_test_lat)**2).mean())**.5\n",
        "#     print(\"RMSE score for this model is\", RMSE)\n",
        "\n",
        "# # reg_out(50)"
      ]
    },
    {
      "cell_type": "code",
      "execution_count": null,
      "metadata": {
        "id": "mqF1P4Vo3p8f"
      },
      "outputs": [],
      "source": [
        "# from sklearn.ensemble import ExtraTreesRegressor\n",
        "\n",
        "# X_train_lat, X_test_lat, y_train_lat, y_test_lat = train_test_split(x_trans, y_lat, test_size = .2, random_state = 1)\n",
        "# reg_lat = ExtraTreesRegressor(n_estimators=100, random_state=0, bootstrap=False, ccp_alpha=0.0, criterion='mse',\n",
        "#                     max_depth=None, max_features='auto', max_leaf_nodes=None,\n",
        "#                     max_samples=None, min_impurity_decrease=0.0,\n",
        "#                     min_impurity_split=None, min_samples_leaf=1,\n",
        "#                     min_samples_split=2, min_weight_fraction_leaf=0.0,\n",
        "#                     n_jobs=-1, oob_score=False,\n",
        "#                     verbose=0, warm_start=False).fit(X_train_lat, y_train_lat)\n",
        "# # reg.score(X_test_lat, y_test_lat)\n",
        "\n",
        "# R2_score = reg_lat.score(X_test_lat, y_test_lat)\n",
        "# print(\"R2 score for this model is\", R2_score)\n",
        "# y_pred_lat = reg_lat.predict(X_test_lat)\n",
        "# MSE = ((y_pred_lat-y_test_lat)**2).mean()\n",
        "# RMSE = (((y_pred_lat-y_test_lat)**2).mean())**.5\n",
        "# print(\"RMSE score for this model is\", RMSE)\n"
      ]
    },
    {
      "cell_type": "code",
      "execution_count": null,
      "metadata": {
        "id": "pNId8zgaFKBZ"
      },
      "outputs": [],
      "source": [
        "# # RMSE for validation data\n",
        "# from sklearn.metrics import mean_squared_error\n",
        "# sk_mse = mean_squared_error(y_test_lat, y_pred_lat)\n",
        "# sk_rmse = sk_mse**.5\n",
        "# print(\"RMSE score for this model is\", sk_rmse)"
      ]
    },
    {
      "cell_type": "markdown",
      "metadata": {
        "id": "C3ovvU9tN_KO"
      },
      "source": [
        "## hyper parameter tuning for latency prediction"
      ]
    },
    {
      "cell_type": "code",
      "execution_count": null,
      "metadata": {
        "id": "IT6JoVKB5i-F"
      },
      "outputs": [],
      "source": [
        "# from sklearn.model_selection import GridSearchCV\n",
        "# from sklearn.metrics import make_scorer\n",
        "# from sklearn.metrics import mean_squared_error\n",
        "\n",
        "# etr_lat = ExtraTreesRegressor(n_estimators=100,random_state=0, bootstrap=False, ccp_alpha=0.0, criterion='mse',\n",
        "#                     max_depth=None, max_features='auto', max_leaf_nodes=None,\n",
        "#                     max_samples=None, min_impurity_decrease=0.0,\n",
        "#                     min_impurity_split=None, min_samples_leaf=1,\n",
        "#                     min_samples_split=2, min_weight_fraction_leaf=0.0,\n",
        "#                     n_jobs=-1, oob_score=False,\n",
        "#                     verbose=0, warm_start=False).fit(X_train_lat, y_train_lat)\n",
        "\n",
        "                            \n",
        "# param_grid = {\n",
        "#     'n_estimators': [50,100],\n",
        "#     'max_depth': [50,60,80,None],\n",
        "#     'max_features': ['auto','sqrt','log2'],    \n",
        "# }\n",
        "\n",
        "# gcv = GridSearchCV(etr_lat,param_grid,scoring='neg_root_mean_squared_error',cv=10,n_jobs=-1).fit(X_train_lat,y_train_lat)\n",
        "\n",
        "# print(\"Best: %f using %s\" % (gcv.best_score_, gcv.best_params_))"
      ]
    },
    {
      "cell_type": "markdown",
      "metadata": {
        "id": "Jlg1Gjj3faA5"
      },
      "source": [
        "## MAE Visualization For Latency"
      ]
    },
    {
      "cell_type": "code",
      "execution_count": null,
      "metadata": {
        "id": "hBM5MWUsfaA6"
      },
      "outputs": [],
      "source": [
        "# from sklearn.ensemble import GradientBoostingRegressor\n",
        "# from sklearn.ensemble import ExtraTreesRegressor\n",
        "# from sklearn.ensemble import RandomForestRegressor\n",
        "# from sklearn.metrics import mean_absolute_error\n",
        "\n",
        "# def get_mae(model_val):\n",
        "#   train_size = [.1,.2,.3,.4,.5,.6,.7,.8,.9,1]\n",
        "#   mae_list = []\n",
        "\n",
        "#   #recreate dataframe from x_trans and y_lat\n",
        "#   df_lat = x_trans.copy()\n",
        "#   df_lat['Latency'] = y_lat\n",
        "\n",
        "#   for size in train_size:\n",
        "#     #get random required size from our data\n",
        "#     df_lat_sampled = df_lat.sample(frac=size,random_state=7)\n",
        "\n",
        "#     #x\n",
        "#     x_lat_sample=df_lat_sampled.copy()\n",
        "#     x_lat_sample.drop(columns = ['Latency'],inplace = True)\n",
        "\n",
        "#     #y\n",
        "#     y_lat_sample=df_lat_sampled[\"Latency\"]\n",
        "\n",
        "\n",
        "#     X_train_lat, X_test_lat, y_train_lat, y_test_lat = train_test_split(x_lat_sample, y_lat_sample, test_size = 0.2, random_state = 44)\n",
        "#     reg = model_val.fit(X_train_lat, y_train_lat)\n",
        "#     y_pred_lat = reg.predict(X_test_lat)\n",
        "#     mae = mean_absolute_error(y_test_lat,y_pred_lat)\n",
        "#     mae_list.append(mae)\n",
        "#   return mae_list\n",
        "\n",
        "# grad_model = GradientBoostingRegressor(random_state=12)\n",
        "# et_model = ExtraTreesRegressor(random_state=12)\n",
        "# rf_model = RandomForestRegressor(random_state=12)\n",
        "# models = {'Gpr':grad_model,'et':et_model,'rf':rf_model}\n",
        "\n",
        "# mae_vis_lat = pd.DataFrame()\n",
        "# mae_vis_lat['Data size'] = ['10%','20%','30%','40%','50%','60%','70%','80%','90%','100%']\n",
        "\n",
        "# for model_key,model_val in models.items():\n",
        "#   mae_vis_lat[f'mae_of {model_key}'] = get_mae(model_val)\n",
        "# mae_vis_lat"
      ]
    },
    {
      "cell_type": "code",
      "execution_count": null,
      "metadata": {
        "id": "xujD-AV-faA6"
      },
      "outputs": [],
      "source": [
        "# import matplotlib.pyplot as plt\n",
        "# plt.plot(mae_vis_lat['Data size'], mae_vis_lat['mae_of Gpr'], 'ko-',markersize=10, label='MAE of gpr')\n",
        "# plt.plot(mae_vis_lat['Data size'], mae_vis_lat['mae_of et'],'^k-',markersize=10, label='MAE of et')\n",
        "# plt.plot(mae_vis_lat['Data size'], mae_vis_lat['mae_of rf'],'Pk-',markersize=10, label='MAE of rf')\n",
        "# plt.ylabel('MAE')\n",
        "# plt.xlabel('Data size')\n",
        "# plt.legend()\n",
        "# plt.show()"
      ]
    },
    {
      "cell_type": "markdown",
      "metadata": {
        "id": "F-Xu1m-djUMS"
      },
      "source": [
        "## RMSE Visualization For Latency"
      ]
    },
    {
      "cell_type": "code",
      "execution_count": null,
      "metadata": {
        "id": "wkBHn-OsjUMT"
      },
      "outputs": [],
      "source": [
        "# from sklearn.ensemble import GradientBoostingRegressor\n",
        "# from sklearn.ensemble import ExtraTreesRegressor\n",
        "# from sklearn.ensemble import RandomForestRegressor\n",
        "# from sklearn.metrics import mean_absolute_error\n",
        "\n",
        "# def RMSE_model(rand,model,X,y):\n",
        "#   rmse_list = []\n",
        "#   for i in range(rand):\n",
        "#     X_train, X_test, y_train, y_test = train_test_split(X, y, test_size = 0.2, random_state = i)\n",
        "#     reg = model.fit(X_train, y_train)\n",
        "#     y_pred = reg.predict(X_test)\n",
        "#     RMSE = (((y_pred-y_test)**2).mean())**.5\n",
        "#     rmse_list.append(RMSE)\n",
        "#   return rmse_list\n",
        "\n",
        "\n",
        "# grad_model = GradientBoostingRegressor(random_state=12)\n",
        "# et_model = ExtraTreesRegressor(random_state=12)\n",
        "# rf_model = RandomForestRegressor(random_state=12)\n",
        "# models = {'Gpr':grad_model,'et':et_model,'rf':rf_model}\n",
        "\n",
        "# rmse_lat_fe = pd.DataFrame()\n",
        "\n",
        "# #for featuered engineerd data\n",
        "# for model_key,model_val in models.items():\n",
        "#   rmse_lat_fe[f'rmse_of {model_key}'] = RMSE_model(50,model_val,x_trans,y_lat)\n",
        "\n",
        "# rmse_lat_fe_melted=pd.melt(rmse_lat_fe)\n",
        "# rmse_lat_fe_melted['type'] = 'fe'\n",
        "# rmse_lat_fe_melted.head()"
      ]
    },
    {
      "cell_type": "code",
      "execution_count": null,
      "metadata": {
        "id": "5y5ntvijjUMT"
      },
      "outputs": [],
      "source": [
        "# #for NON featuered engineerd data\n",
        "# rmse_lat_nonfe = pd.DataFrame()\n",
        "# for model_key,model_val in models.items():\n",
        "#   rmse_lat_nonfe[f'rmse_of {model_key}'] = RMSE_model(50,model_val,x_lat,y_lat)\n",
        "\n",
        "# rmse_lat_nonfe_melted=pd.melt(rmse_lat_nonfe)\n",
        "# rmse_lat_nonfe_melted['type'] = 'nonfe'\n",
        "# # rmse_lat_nonfe_melted"
      ]
    },
    {
      "cell_type": "code",
      "execution_count": null,
      "metadata": {
        "id": "thNb5tD4jUMU"
      },
      "outputs": [],
      "source": [
        "# rmse_all_lat = pd.concat([rmse_lat_fe_melted,rmse_lat_nonfe_melted])\n",
        "# # rmse_all_lat"
      ]
    },
    {
      "cell_type": "code",
      "execution_count": null,
      "metadata": {
        "id": "E01GCs4OjUMU"
      },
      "outputs": [],
      "source": [
        "# import matplotlib.pyplot as plt\n",
        "# import seaborn as sns\n",
        "# ax = sns.boxplot(x=\"variable\", y=\"value\", hue=\"type\",\n",
        "#                  data=rmse_all_lat, palette=\"Set3\")\n",
        "\n",
        "# plt.ylabel('RMSE Range')\n",
        "# plt.xlabel('Model')\n",
        "# plt.show()"
      ]
    },
    {
      "cell_type": "markdown",
      "metadata": {
        "id": "qgTzQ_BuDX9d"
      },
      "source": [
        "#Multioutput prediction and graphs"
      ]
    },
    {
      "cell_type": "markdown",
      "metadata": {
        "id": "UqeLd83LDX9e"
      },
      "source": [
        "## MultiOutputRegressor for Throughput and latency prediction"
      ]
    },
    {
      "cell_type": "code",
      "execution_count": null,
      "metadata": {
        "id": "Sin5IraJE8Ul"
      },
      "outputs": [],
      "source": [
        "# !pip install scikit-learn==0.24.1\n",
        "# !pip uninstall scikit-learn -y\n",
        "\n",
        "# !pip install -U scikit-learn"
      ]
    },
    {
      "cell_type": "code",
      "execution_count": null,
      "metadata": {
        "id": "l0728lPADX9e"
      },
      "outputs": [],
      "source": [
        "#for featered engineer data\n",
        "#split our data to y that contain our outputs \"Throughput\",\"Latency\" and to x that conatin the featuers inputs for our model\n",
        "y_multi=df[[\"Throughput\",\"Latency\"]]\n",
        "x_multi=x_trans.copy()\n",
        "\n",
        "X_train_multi, X_test_multi, y_train_multi, y_test_multi = train_test_split(x_multi, y_multi, test_size = 0.2, random_state = 12)"
      ]
    },
    {
      "cell_type": "code",
      "execution_count": null,
      "metadata": {
        "colab": {
          "base_uri": "https://localhost:8080/"
        },
        "id": "xtRKKxpjDX9f",
        "outputId": "d6f1a18f-9d11-4684-fe77-5449c686fd5e"
      },
      "outputs": [
        {
          "output_type": "stream",
          "name": "stdout",
          "text": [
            "for model et\n",
            "R2 score for multi_output 0.988714884534972\n",
            "RMSE score for multi_output 20.245255784226792\n",
            "mae for multi_output 11.083498114412382\n",
            "mape for multi_output 0.06889989197662533\n",
            "for model gb\n",
            "R2 score for multi_output 0.9814065340163259\n",
            "RMSE score for multi_output 30.641441454756258\n",
            "mae for multi_output 17.125947397755535\n",
            "mape for multi_output 0.10417023310997178\n",
            "for model rf\n",
            "R2 score for multi_output 0.9709147690520605\n",
            "RMSE score for multi_output 31.381700510521476\n",
            "mae for multi_output 16.939925252802936\n",
            "mape for multi_output 0.10714570880334082\n"
          ]
        }
      ],
      "source": [
        "#apply extra tree regressor for multioutput\n",
        "import numpy as np\n",
        "from sklearn.datasets import load_linnerud\n",
        "from sklearn.multioutput import MultiOutputRegressor\n",
        "from sklearn.ensemble import ExtraTreesRegressor\n",
        "from sklearn.metrics import r2_score\n",
        "from sklearn.metrics import mean_squared_error\n",
        "from sklearn.metrics import mean_absolute_error\n",
        "from sklearn.metrics import mean_absolute_percentage_error\n",
        "from sklearn.ensemble import GradientBoostingRegressor\n",
        "from sklearn.ensemble import ExtraTreesRegressor\n",
        "from sklearn.ensemble import RandomForestRegressor\n",
        "\n",
        "grad_model = GradientBoostingRegressor(random_state=1)\n",
        "et_model = ExtraTreesRegressor(random_state=1)\n",
        "rf_model = RandomForestRegressor(random_state=1)\n",
        "models = {'et':et_model,'gb':grad_model,'rf':rf_model}\n",
        "\n",
        "for model_key,model_val in models.items():\n",
        "  # X_multi, y_multi = load_linnerud(return_X_y=True)\n",
        "  multi_model = MultiOutputRegressor(model_val).fit(X_train_multi, y_train_multi)\n",
        "  y_pred_multi = multi_model.predict(X_test_multi)\n",
        "\n",
        "\n",
        "  # 2 output prdiction acuurcy\n",
        "  print(f'for model {model_key}')\n",
        "  #r2 score for 2 output\n",
        "  combined_r2_score = r2_score(y_test_multi, y_pred_multi)\n",
        "  print(\"R2 score for multi_output\", combined_r2_score)\n",
        "\n",
        "  #rmse for 2 output\n",
        "  mse_combined = mean_squared_error(y_test_multi, y_pred_multi)\n",
        "  rmse_combined = mse_combined**.5\n",
        "  print(\"RMSE score for multi_output\", rmse_combined)\n",
        "\n",
        "  #mae for 2 output\n",
        "  combined_mae = mean_absolute_error(y_test_multi, y_pred_multi)\n",
        "  print(\"mae for multi_output\", combined_mae)\n",
        "\n",
        "  #mape for 2 output\n",
        "  combined_mape = mean_absolute_percentage_error(y_test_multi, y_pred_multi)\n",
        "  print(\"mape for multi_output\", combined_mape)"
      ]
    },
    {
      "cell_type": "code",
      "execution_count": null,
      "metadata": {
        "colab": {
          "base_uri": "https://localhost:8080/"
        },
        "id": "xlKkKecKJlEO",
        "outputId": "0c54e12d-1fec-4762-e0f4-868d24c23504"
      },
      "outputs": [
        {
          "output_type": "execute_result",
          "data": {
            "text/plain": [
              "36.112631578947365"
            ]
          },
          "metadata": {},
          "execution_count": 58
        }
      ],
      "source": [
        "y_pred_multi[:,0].mean()"
      ]
    },
    {
      "cell_type": "code",
      "execution_count": null,
      "metadata": {
        "id": "cCRC4kwNDbUq"
      },
      "outputs": [],
      "source": [
        "#for nonfeatered engineer data\n",
        "#split our data to y that contain our outputs \"Throughput\",\"Latency\" and to x that conatin the featuers inputs for our model\n",
        "y_multi=df[[\"Throughput\",\"Latency\"]]\n",
        "x_multi_nonfe=x_nonfe.copy()\n",
        "\n",
        "X_train_multi_nonfe, X_test_multi_nonfe, y_train_multi_nonfe, y_test_multi_nonfe = train_test_split(x_multi_nonfe, y_multi, test_size = 0.2, random_state = 12)"
      ]
    },
    {
      "cell_type": "code",
      "execution_count": null,
      "metadata": {
        "id": "1FIq49l_Ddj9"
      },
      "outputs": [],
      "source": [
        "#apply extra tree regressor for multioutput\n",
        "import numpy as np\n",
        "from sklearn.datasets import load_linnerud\n",
        "from sklearn.multioutput import MultiOutputRegressor\n",
        "from sklearn.ensemble import ExtraTreesRegressor\n",
        "from sklearn.metrics import r2_score\n",
        "from sklearn.metrics import mean_squared_error\n",
        "from sklearn.metrics import mean_absolute_error\n",
        "from sklearn.metrics import mean_absolute_percentage_error\n",
        "from sklearn.ensemble import GradientBoostingRegressor\n",
        "from sklearn.ensemble import ExtraTreesRegressor\n",
        "from sklearn.ensemble import RandomForestRegressor\n",
        "\n",
        "grad_model = GradientBoostingRegressor(random_state=0)\n",
        "et_model = ExtraTreesRegressor(random_state=0)\n",
        "rf_model = RandomForestRegressor(random_state=0)\n",
        "models = {'et':et_model,'gb':grad_model,'rf':rf_model}\n",
        "\n",
        "for model_key,model_val in models.items():\n",
        "  # X_multi, y_multi = load_linnerud(return_X_y=True)\n",
        "  multi_model_nonfe = MultiOutputRegressor(model_val).fit(X_train_multi_nonfe, y_train_multi_nonfe)\n",
        "  y_pred_multi_nonfe = multi_model_nonfe.predict(X_test_multi_nonfe)\n",
        "\n",
        "\n",
        "  # # 2 output prdiction acuurcy\n",
        "  # print(f'for model {model_key}')\n",
        "  # #r2 score for 2 output\n",
        "  # combined_r2_score_nonfe = r2_score(y_test_multi_nonfe, y_pred_multi_nonfe)\n",
        "  # print(\"R2 score for multi_output\", combined_r2_score_nonfe)\n",
        "\n",
        "  # #rmse for 2 output\n",
        "  # mse_combined_nonfe = mean_squared_error(y_test_multi_nonfe, y_pred_multi_nonfe)\n",
        "  # rmse_combined_nonfe = mse_combined_nonfe**.5\n",
        "  # print(\"RMSE score for multi_output\", rmse_combined_nonfe)\n",
        "\n",
        "  # #mae for 2 output\n",
        "  # combined_mae_nonfe = mean_absolute_error(y_test_multi_nonfe, y_pred_multi_nonfe)\n",
        "  # print(\"mae for multi_output\", combined_mae_nonfe)\n",
        "\n",
        "  # #mae for 2 output\n",
        "  # combined_mape_nonfe = mean_absolute_percentage_error(y_test_multi_nonfe, y_pred_multi_nonfe)\n",
        "  # print(\"mape for multi_output\", combined_mape_nonfe)"
      ]
    },
    {
      "cell_type": "markdown",
      "metadata": {
        "id": "cDFpegSCO5G8"
      },
      "source": [
        "## Predict with new inputs"
      ]
    },
    {
      "cell_type": "code",
      "execution_count": null,
      "metadata": {
        "colab": {
          "base_uri": "https://localhost:8080/"
        },
        "id": "NU_NlCiKa9Qq",
        "outputId": "b26cb8d3-a3d9-484e-e211-e859926dc425"
      },
      "outputs": [
        {
          "output_type": "stream",
          "name": "stderr",
          "text": [
            "/usr/local/lib/python3.7/dist-packages/sklearn/base.py:451: UserWarning: X does not have valid feature names, but RandomForestRegressor was fitted with feature names\n",
            "  \"X does not have valid feature names, but\"\n",
            "/usr/local/lib/python3.7/dist-packages/sklearn/base.py:451: UserWarning: X does not have valid feature names, but RandomForestRegressor was fitted with feature names\n",
            "  \"X does not have valid feature names, but\"\n"
          ]
        },
        {
          "output_type": "execute_result",
          "data": {
            "text/plain": [
              "array([[83.28      , 83.56864799]])"
            ]
          },
          "metadata": {},
          "execution_count": 61
        }
      ],
      "source": [
        "predict_new = multi_model.predict([[1.0,12.0,143362,2,2]])\n",
        "predict_new"
      ]
    },
    {
      "cell_type": "code",
      "execution_count": null,
      "metadata": {
        "colab": {
          "base_uri": "https://localhost:8080/"
        },
        "id": "rdKH35etDX9f",
        "outputId": "55240ea9-64a9-40bb-cc29-fe14fe8f8001"
      },
      "outputs": [
        {
          "output_type": "execute_result",
          "data": {
            "text/plain": [
              "83.56864798755409"
            ]
          },
          "metadata": {},
          "execution_count": 62
        }
      ],
      "source": [
        "predict_new[0,1]"
      ]
    },
    {
      "cell_type": "markdown",
      "metadata": {
        "id": "7hUl4p60DX9g"
      },
      "source": [
        "## MAE Visualization"
      ]
    },
    {
      "cell_type": "code",
      "execution_count": null,
      "metadata": {
        "id": "4Q34KdJFDX9g"
      },
      "outputs": [],
      "source": [
        "from sklearn.ensemble import GradientBoostingRegressor\n",
        "from sklearn.ensemble import ExtraTreesRegressor\n",
        "from sklearn.ensemble import RandomForestRegressor\n",
        "from sklearn.metrics import mean_absolute_error\n",
        "from sklearn.multioutput import MultiOutputRegressor\n",
        "\n",
        "def get_mae(model,x):\n",
        "  train_size = [.1,.2,.3,.4,.5,.6,.7,.8,.9]\n",
        "  mae_list = []\n",
        "\n",
        "  #recreate dataframe from x_multi and y_multi\n",
        "  df_multi_fun = x.copy()\n",
        "  df_multi_fun[[\"Throughput\",\"Latency\"]] = df[[\"Throughput\",\"Latency\"]].copy()\n",
        "\n",
        "  for size in train_size:\n",
        "    #get random required size from our data\n",
        "    df_multi_sampled = df_multi_fun.sample(frac=size,random_state=3)\n",
        "\n",
        "    #x\n",
        "    x_multi_sample=df_multi_sampled.copy()\n",
        "    x_multi_sample.drop(columns = ['Throughput','Latency'],inplace = True)\n",
        "\n",
        "    #y\n",
        "    y_multi_sample=df_multi_sampled[[\"Throughput\",\"Latency\"]]\n",
        "\n",
        "\n",
        "    X_train_multi, X_test_multi, y_train_multi, y_test_multi = train_test_split(x_multi_sample, y_multi_sample, test_size = 1-size, random_state = 1)\n",
        "    reg =  MultiOutputRegressor(model).fit(X_train_multi, y_train_multi)\n",
        "    y_pred_multi = reg.predict(X_test_multi)\n",
        "    mae = mean_absolute_error(y_test_multi,y_pred_multi)\n",
        "    mae_list.append(mae)\n",
        "  return mae_list"
      ]
    },
    {
      "cell_type": "code",
      "execution_count": null,
      "metadata": {
        "colab": {
          "base_uri": "https://localhost:8080/",
          "height": 332
        },
        "id": "FWD0uoISDX9h",
        "outputId": "d85e5066-feb7-4ec1-a088-3b45b9c6c678"
      },
      "outputs": [
        {
          "output_type": "execute_result",
          "data": {
            "text/html": [
              "\n",
              "  <div id=\"df-72d7c852-8e2a-47c6-875c-79e609b22429\">\n",
              "    <div class=\"colab-df-container\">\n",
              "      <div>\n",
              "<style scoped>\n",
              "    .dataframe tbody tr th:only-of-type {\n",
              "        vertical-align: middle;\n",
              "    }\n",
              "\n",
              "    .dataframe tbody tr th {\n",
              "        vertical-align: top;\n",
              "    }\n",
              "\n",
              "    .dataframe thead th {\n",
              "        text-align: right;\n",
              "    }\n",
              "</style>\n",
              "<table border=\"1\" class=\"dataframe\">\n",
              "  <thead>\n",
              "    <tr style=\"text-align: right;\">\n",
              "      <th></th>\n",
              "      <th>Data size</th>\n",
              "      <th>nonfe_mae_of gb</th>\n",
              "      <th>nonfe_mae_of et</th>\n",
              "      <th>nonfe_mae_of rf</th>\n",
              "    </tr>\n",
              "  </thead>\n",
              "  <tbody>\n",
              "    <tr>\n",
              "      <th>0</th>\n",
              "      <td>10%</td>\n",
              "      <td>290.645462</td>\n",
              "      <td>290.645462</td>\n",
              "      <td>290.645462</td>\n",
              "    </tr>\n",
              "    <tr>\n",
              "      <th>1</th>\n",
              "      <td>20%</td>\n",
              "      <td>154.014549</td>\n",
              "      <td>119.106007</td>\n",
              "      <td>147.428078</td>\n",
              "    </tr>\n",
              "    <tr>\n",
              "      <th>2</th>\n",
              "      <td>30%</td>\n",
              "      <td>116.189101</td>\n",
              "      <td>59.751476</td>\n",
              "      <td>127.278945</td>\n",
              "    </tr>\n",
              "    <tr>\n",
              "      <th>3</th>\n",
              "      <td>40%</td>\n",
              "      <td>77.941735</td>\n",
              "      <td>40.282151</td>\n",
              "      <td>84.312198</td>\n",
              "    </tr>\n",
              "    <tr>\n",
              "      <th>4</th>\n",
              "      <td>50%</td>\n",
              "      <td>33.931925</td>\n",
              "      <td>33.501571</td>\n",
              "      <td>47.593023</td>\n",
              "    </tr>\n",
              "    <tr>\n",
              "      <th>5</th>\n",
              "      <td>60%</td>\n",
              "      <td>29.707215</td>\n",
              "      <td>33.025869</td>\n",
              "      <td>39.843780</td>\n",
              "    </tr>\n",
              "    <tr>\n",
              "      <th>6</th>\n",
              "      <td>70%</td>\n",
              "      <td>41.791506</td>\n",
              "      <td>24.221995</td>\n",
              "      <td>41.927570</td>\n",
              "    </tr>\n",
              "    <tr>\n",
              "      <th>7</th>\n",
              "      <td>80%</td>\n",
              "      <td>16.503228</td>\n",
              "      <td>15.075004</td>\n",
              "      <td>26.331930</td>\n",
              "    </tr>\n",
              "    <tr>\n",
              "      <th>8</th>\n",
              "      <td>90%</td>\n",
              "      <td>30.515166</td>\n",
              "      <td>19.575545</td>\n",
              "      <td>30.835031</td>\n",
              "    </tr>\n",
              "  </tbody>\n",
              "</table>\n",
              "</div>\n",
              "      <button class=\"colab-df-convert\" onclick=\"convertToInteractive('df-72d7c852-8e2a-47c6-875c-79e609b22429')\"\n",
              "              title=\"Convert this dataframe to an interactive table.\"\n",
              "              style=\"display:none;\">\n",
              "        \n",
              "  <svg xmlns=\"http://www.w3.org/2000/svg\" height=\"24px\"viewBox=\"0 0 24 24\"\n",
              "       width=\"24px\">\n",
              "    <path d=\"M0 0h24v24H0V0z\" fill=\"none\"/>\n",
              "    <path d=\"M18.56 5.44l.94 2.06.94-2.06 2.06-.94-2.06-.94-.94-2.06-.94 2.06-2.06.94zm-11 1L8.5 8.5l.94-2.06 2.06-.94-2.06-.94L8.5 2.5l-.94 2.06-2.06.94zm10 10l.94 2.06.94-2.06 2.06-.94-2.06-.94-.94-2.06-.94 2.06-2.06.94z\"/><path d=\"M17.41 7.96l-1.37-1.37c-.4-.4-.92-.59-1.43-.59-.52 0-1.04.2-1.43.59L10.3 9.45l-7.72 7.72c-.78.78-.78 2.05 0 2.83L4 21.41c.39.39.9.59 1.41.59.51 0 1.02-.2 1.41-.59l7.78-7.78 2.81-2.81c.8-.78.8-2.07 0-2.86zM5.41 20L4 18.59l7.72-7.72 1.47 1.35L5.41 20z\"/>\n",
              "  </svg>\n",
              "      </button>\n",
              "      \n",
              "  <style>\n",
              "    .colab-df-container {\n",
              "      display:flex;\n",
              "      flex-wrap:wrap;\n",
              "      gap: 12px;\n",
              "    }\n",
              "\n",
              "    .colab-df-convert {\n",
              "      background-color: #E8F0FE;\n",
              "      border: none;\n",
              "      border-radius: 50%;\n",
              "      cursor: pointer;\n",
              "      display: none;\n",
              "      fill: #1967D2;\n",
              "      height: 32px;\n",
              "      padding: 0 0 0 0;\n",
              "      width: 32px;\n",
              "    }\n",
              "\n",
              "    .colab-df-convert:hover {\n",
              "      background-color: #E2EBFA;\n",
              "      box-shadow: 0px 1px 2px rgba(60, 64, 67, 0.3), 0px 1px 3px 1px rgba(60, 64, 67, 0.15);\n",
              "      fill: #174EA6;\n",
              "    }\n",
              "\n",
              "    [theme=dark] .colab-df-convert {\n",
              "      background-color: #3B4455;\n",
              "      fill: #D2E3FC;\n",
              "    }\n",
              "\n",
              "    [theme=dark] .colab-df-convert:hover {\n",
              "      background-color: #434B5C;\n",
              "      box-shadow: 0px 1px 3px 1px rgba(0, 0, 0, 0.15);\n",
              "      filter: drop-shadow(0px 1px 2px rgba(0, 0, 0, 0.3));\n",
              "      fill: #FFFFFF;\n",
              "    }\n",
              "  </style>\n",
              "\n",
              "      <script>\n",
              "        const buttonEl =\n",
              "          document.querySelector('#df-72d7c852-8e2a-47c6-875c-79e609b22429 button.colab-df-convert');\n",
              "        buttonEl.style.display =\n",
              "          google.colab.kernel.accessAllowed ? 'block' : 'none';\n",
              "\n",
              "        async function convertToInteractive(key) {\n",
              "          const element = document.querySelector('#df-72d7c852-8e2a-47c6-875c-79e609b22429');\n",
              "          const dataTable =\n",
              "            await google.colab.kernel.invokeFunction('convertToInteractive',\n",
              "                                                     [key], {});\n",
              "          if (!dataTable) return;\n",
              "\n",
              "          const docLinkHtml = 'Like what you see? Visit the ' +\n",
              "            '<a target=\"_blank\" href=https://colab.research.google.com/notebooks/data_table.ipynb>data table notebook</a>'\n",
              "            + ' to learn more about interactive tables.';\n",
              "          element.innerHTML = '';\n",
              "          dataTable['output_type'] = 'display_data';\n",
              "          await google.colab.output.renderOutput(dataTable, element);\n",
              "          const docLink = document.createElement('div');\n",
              "          docLink.innerHTML = docLinkHtml;\n",
              "          element.appendChild(docLink);\n",
              "        }\n",
              "      </script>\n",
              "    </div>\n",
              "  </div>\n",
              "  "
            ],
            "text/plain": [
              "  Data size  nonfe_mae_of gb  nonfe_mae_of et  nonfe_mae_of rf\n",
              "0       10%       290.645462       290.645462       290.645462\n",
              "1       20%       154.014549       119.106007       147.428078\n",
              "2       30%       116.189101        59.751476       127.278945\n",
              "3       40%        77.941735        40.282151        84.312198\n",
              "4       50%        33.931925        33.501571        47.593023\n",
              "5       60%        29.707215        33.025869        39.843780\n",
              "6       70%        41.791506        24.221995        41.927570\n",
              "7       80%        16.503228        15.075004        26.331930\n",
              "8       90%        30.515166        19.575545        30.835031"
            ]
          },
          "metadata": {},
          "execution_count": 64
        }
      ],
      "source": [
        "from scipy.sparse.construct import random\n",
        "#make the dataframe for mae for fe and nonfe data\n",
        "grad_model = GradientBoostingRegressor(random_state=1)\n",
        "et_model = ExtraTreesRegressor(random_state=1)\n",
        "rf_model = RandomForestRegressor(random_state=1)\n",
        "models = {'gb':grad_model,'et':et_model,'rf':rf_model}\n",
        "\n",
        "#for fe data\n",
        "mae_fe_vis = pd.DataFrame()\n",
        "mae_fe_vis['Data size'] = ['10%','20%','30%','40%','50%','60%','70%','80%','90%']\n",
        "for model_key,model_val in models.items():\n",
        "  mae_fe_vis[f'mae_of {model_key}'] = get_mae(model_val,x_trans)\n",
        "\n",
        "#for nonfe data\n",
        "mae_nonfe_vis = pd.DataFrame()\n",
        "mae_nonfe_vis['Data size'] = ['10%','20%','30%','40%','50%','60%','70%','80%','90%']\n",
        "for model_key,model_val in models.items():\n",
        "  mae_nonfe_vis[f'nonfe_mae_of {model_key}'] = get_mae(model_val,x_nonfe)\n",
        "\n",
        "mae_nonfe_vis"
      ]
    },
    {
      "cell_type": "code",
      "execution_count": null,
      "metadata": {
        "colab": {
          "base_uri": "https://localhost:8080/",
          "height": 544
        },
        "id": "mU7dtYKiDX9h",
        "outputId": "d807233b-5f18-46cb-a50c-677f0afa1362"
      },
      "outputs": [
        {
          "output_type": "display_data",
          "data": {
            "image/png": "[encoded data removed]",
            "text/plain": [
              "<Figure size 800x640 with 1 Axes>"
            ]
          },
          "metadata": {
            "needs_background": "light"
          }
        }
      ],
      "source": [
        "import matplotlib.pyplot as plt\n",
        "plt.figure(figsize=(10, 8), dpi=80)\n",
        "plt.grid('both', linestyle='-.')\n",
        "plt.tick_params(axis='both', direction='in')\n",
        "plt.plot(mae_fe_vis['Data size'], mae_fe_vis['mae_of gb'], 'ko-',markersize=10, label='MAE of gb')\n",
        "plt.plot(mae_fe_vis['Data size'], mae_fe_vis['mae_of et'],'^k-',markersize=10, label='MAE of et')\n",
        "plt.plot(mae_fe_vis['Data size'], mae_fe_vis['mae_of rf'],'Pk-',markersize=10, label='MAE of rf')\n",
        "\n",
        "plt.plot(mae_nonfe_vis['Data size'], mae_nonfe_vis['nonfe_mae_of gb'], 'ko--',markersize=10, label='NoN FE MAE of gb')\n",
        "plt.plot(mae_nonfe_vis['Data size'], mae_nonfe_vis['nonfe_mae_of et'],'^k--',markersize=10, label='NoN FE MAE of et')\n",
        "plt.plot(mae_nonfe_vis['Data size'], mae_nonfe_vis['nonfe_mae_of rf'],'Pk--',markersize=10, label='NoN FE MAE of rf')\n",
        "\n",
        "plt.ylabel('MAE')\n",
        "plt.xlabel('Data size')\n",
        "plt.legend()\n",
        "\n",
        "plt.show()"
      ]
    },
    {
      "cell_type": "markdown",
      "metadata": {
        "id": "21RopJRkIrgY"
      },
      "source": [
        "##aRRMSE visualization"
      ]
    },
    {
      "cell_type": "code",
      "execution_count": null,
      "metadata": {
        "id": "UygoKqphIq_C"
      },
      "outputs": [],
      "source": [
        "from sklearn.ensemble import GradientBoostingRegressor\n",
        "from sklearn.ensemble import ExtraTreesRegressor\n",
        "from sklearn.ensemble import RandomForestRegressor\n",
        "from sklearn.metrics import mean_absolute_error\n",
        "from sklearn.multioutput import MultiOutputRegressor\n",
        "from sklearn.metrics import mean_squared_error\n",
        "import matplotlib.pyplot as plt\n",
        "\n",
        "def get_rrmse(model,x):\n",
        "  train_size = [.1,.2,.3,.4,.5,.6,.7,.8,.9]\n",
        "  rrmse_list = []\n",
        "  #rrmse_list = np.array([], dtype=float)\n",
        "\n",
        "  #recreate dataframe from x_multi and y_multi\n",
        "  df_multi_fun = x.copy()\n",
        "  df_multi_fun[[\"Throughput\",\"Latency\"]] = df[[\"Throughput\",\"Latency\"]].copy()\n",
        "\n",
        "  for size in train_size:\n",
        "    #x\n",
        "    x_multi_sample=df_multi_fun.copy()\n",
        "    x_multi_sample.drop(columns = ['Throughput','Latency'],inplace = True)\n",
        "\n",
        "    #y\n",
        "    y_multi_sample=df_multi_fun[[\"Throughput\",\"Latency\"]]\n",
        "\n",
        "\n",
        "    X_train_multi, X_test_multi, y_train_multi, y_test_multi = train_test_split(x_multi_sample, y_multi_sample, test_size = 1-size, random_state = 12)\n",
        "    reg =  MultiOutputRegressor(model).fit(X_train_multi, y_train_multi)\n",
        "    y_pred_multi = reg.predict(X_test_multi)\n",
        "\n",
        "    # rrmse_of_y_pred_throuhput = mean_squared_error(y_test_multi['Throughput'], y_pred_multi[:,0])**.5/(y_pred_multi[:,0].mean())\n",
        "    # rrmse_of_y_pred_latency = mean_squared_error(y_test_multi['Latency'], y_pred_multi[:,1])**.5/(y_pred_multi[:,1].mean())\n",
        "\n",
        "    #This is the formula of NRMSE which is RMSE divided by mean of the measured values. aNRMSE is average of NRMSE of all target variables.\n",
        "    #rrmse_of_y_pred_throuhput = mean_squared_error(y_test_multi['Throughput'], y_pred_multi[:,0])**.5/(y_test_multi['Throughput'].mean())    \n",
        "    #rrmse_of_y_pred_latency = mean_squared_error(y_test_multi['Latency'], y_pred_multi[:,1])**.5/(y_test_multi['Latency'].mean())\n",
        "\n",
        "    y_test_multi['y_train_multi_mean_late'] = y_train_multi['Latency'].mean()\n",
        "    y_test_multi['y_train_multi_mean_through'] = y_train_multi['Throughput'].mean()\n",
        "\n",
        "    rrmse_of_y_pred_throuhput = mean_squared_error(y_test_multi['Throughput'], y_pred_multi[:,0])**.5/(mean_squared_error(y_test_multi['Throughput'], y_test_multi['y_train_multi_mean_through']))**.5 \n",
        "    rrmse_of_y_pred_latency = mean_squared_error(y_test_multi['Latency'], y_pred_multi[:,1])**.5/(mean_squared_error(y_test_multi['Latency'], y_test_multi['y_train_multi_mean_late']))**.5 \n",
        "\n",
        "    rrmse_multi_mean = (rrmse_of_y_pred_throuhput + rrmse_of_y_pred_latency) / 2    \n",
        "    rrmse_list.append(rrmse_multi_mean)\n",
        "\n",
        "  return rrmse_list\n",
        "  \n"
      ]
    },
    {
      "cell_type": "code",
      "execution_count": null,
      "metadata": {
        "colab": {
          "base_uri": "https://localhost:8080/"
        },
        "id": "jcDMz0sfMwPv",
        "outputId": "833120da-476a-4c98-e1cb-f06864c59284"
      },
      "outputs": [
        {
          "output_type": "execute_result",
          "data": {
            "text/plain": [
              "(  Data size  nonfe_arrmse_of gb  nonfe_arrmse_of et  nonfe_arrmse_of rf\n",
              " 0       10%            0.615418            0.595134            0.792372\n",
              " 1       20%            0.605775            0.681192            0.659866\n",
              " 2       30%            0.363456            0.521841            0.412754\n",
              " 3       40%            0.628574            0.228743            0.426909\n",
              " 4       50%            0.259983            0.220266            0.331667\n",
              " 5       60%            0.136950            0.162220            0.252771\n",
              " 6       70%            0.135295            0.209414            0.238541\n",
              " 7       80%            0.140131            0.114768            0.242570\n",
              " 8       90%            0.123946            0.089764            0.150200,\n",
              "   Data size  arrmse_of gb  arrmse_of et  arrmse_of rf\n",
              " 0       10%      0.617160      0.565699      0.748100\n",
              " 1       20%      0.689368      0.430916      0.668377\n",
              " 2       30%      0.427402      0.265779      0.375761\n",
              " 3       40%      0.199580      0.166775      0.315530\n",
              " 4       50%      0.218564      0.166639      0.272493\n",
              " 5       60%      0.153457      0.129263      0.185312\n",
              " 6       70%      0.149988      0.114510      0.180884\n",
              " 7       80%      0.131187      0.100238      0.160023\n",
              " 8       90%      0.099518      0.084065      0.154373)"
            ]
          },
          "metadata": {},
          "execution_count": 67
        }
      ],
      "source": [
        "from scipy.sparse.construct import random\n",
        "#make the dataframe for arrmse for fe and nonfe data\n",
        "grad_model = GradientBoostingRegressor(random_state=1)\n",
        "et_model = ExtraTreesRegressor(random_state=1)\n",
        "rf_model = RandomForestRegressor(random_state=1)\n",
        "models = {'gb':grad_model,'et':et_model,'rf':rf_model}\n",
        "\n",
        "#for fe data\n",
        "rrmse_fe_vis = pd.DataFrame()\n",
        "rrmse_fe_vis['Data size'] = ['10%','20%','30%','40%','50%','60%','70%','80%','90%']\n",
        "for model_key,model_val in models.items():\n",
        "  rrmse_fe_vis[f'arrmse_of {model_key}'] = get_rrmse(model_val,x_trans)\n",
        "\n",
        "#for nonfe data\n",
        "rrmse_nonfe_vis = pd.DataFrame()\n",
        "rrmse_nonfe_vis['Data size'] = ['10%','20%','30%','40%','50%','60%','70%','80%','90%']\n",
        "for model_key,model_val in models.items():\n",
        "  rrmse_nonfe_vis[f'nonfe_arrmse_of {model_key}'] = get_rrmse(model_val,x_nonfe)\n",
        "\n",
        "rrmse_nonfe_vis , rrmse_fe_vis"
      ]
    },
    {
      "cell_type": "code",
      "execution_count": null,
      "metadata": {
        "colab": {
          "base_uri": "https://localhost:8080/",
          "height": 579
        },
        "id": "VRFLYg2xV89U",
        "outputId": "67f16b56-17ff-4886-e74f-86c285cb7050"
      },
      "outputs": [
        {
          "output_type": "stream",
          "name": "stderr",
          "text": [
            "The PostScript backend does not support transparency; partially transparent artists will be rendered opaque.\n",
            "The PostScript backend does not support transparency; partially transparent artists will be rendered opaque.\n"
          ]
        },
        {
          "output_type": "display_data",
          "data": {
            "image/png": "[encoded data removed]",
            "text/plain": [
              "<Figure size 800x640 with 1 Axes>"
            ]
          },
          "metadata": {
            "needs_background": "light"
          }
        }
      ],
      "source": [
        "import matplotlib.pyplot as plt\n",
        "plt.figure(figsize=(10, 8), dpi=80)\n",
        "plt.grid('both', linestyle='-.')\n",
        "plt.tick_params(axis='both', direction='in')\n",
        "plt.plot(rrmse_fe_vis['Data size'], rrmse_fe_vis['arrmse_of gb'], 'ko-',markersize=10, label='FE aRRMSE of gb')\n",
        "plt.plot(rrmse_fe_vis['Data size'], rrmse_fe_vis['arrmse_of et'],'^k-',markersize=10, label='FE aRRMSE of et')\n",
        "plt.plot(rrmse_fe_vis['Data size'], rrmse_fe_vis['arrmse_of rf'],'Pk-',markersize=10, label='FE aRRMSE of rf')\n",
        "\n",
        "plt.plot(rrmse_nonfe_vis['Data size'], rrmse_nonfe_vis['nonfe_arrmse_of gb'], 'ko--',markersize=10, label='NoN FE aRRMSE of gb')\n",
        "plt.plot(rrmse_nonfe_vis['Data size'], rrmse_nonfe_vis['nonfe_arrmse_of et'],'^k--',markersize=10, label='NoN FE aRRMSE of et')\n",
        "plt.plot(rrmse_nonfe_vis['Data size'], rrmse_nonfe_vis['nonfe_arrmse_of rf'],'Pk--',markersize=10, label='NoN FE aRRMSE of rf')\n",
        "\n",
        "plt.ylabel('aRRMSE')\n",
        "plt.xlabel('Data size')\n",
        "plt.legend()\n",
        "plt.savefig('/content/drive/MyDrive/data/aRRMSE.eps', format='eps', dpi=1000)\n",
        "plt.show()"
      ]
    },
    {
      "cell_type": "markdown",
      "metadata": {
        "id": "hsZtIELcDX9i"
      },
      "source": [
        "## aRMSE Visualization"
      ]
    },
    {
      "cell_type": "code",
      "execution_count": null,
      "metadata": {
        "id": "1tgwZC-mDX9i"
      },
      "outputs": [],
      "source": [
        "from sklearn.ensemble import GradientBoostingRegressor\n",
        "from sklearn.ensemble import ExtraTreesRegressor\n",
        "from sklearn.ensemble import RandomForestRegressor\n",
        "from sklearn.metrics import mean_absolute_error\n",
        "from sklearn.model_selection import RepeatedKFold\n",
        "from sklearn.model_selection import cross_val_score\n",
        "from sklearn.multioutput import MultiOutputRegressor\n",
        "\n",
        "#for 10 splits and 10 n_repeates\n",
        "def RMSE_model(model,X,y):\n",
        "  cv = RepeatedKFold(n_splits=10, n_repeats=10, random_state=12)\n",
        "  reg = MultiOutputRegressor(model)\n",
        "  scores = cross_val_score(reg, X, y, scoring='neg_root_mean_squared_error', cv=cv, n_jobs=-1)*-1\n",
        "  rmse_vals = pd.Series(scores)\n",
        "  return rmse_vals"
      ]
    },
    {
      "cell_type": "code",
      "execution_count": null,
      "metadata": {
        "id": "iAsxKgkjDX9i",
        "colab": {
          "base_uri": "https://localhost:8080/",
          "height": 235
        },
        "outputId": "4a6d2208-6327-4dc7-aa6d-26ed24274fbb"
      },
      "outputs": [
        {
          "output_type": "error",
          "ename": "NameError",
          "evalue": "ignored",
          "traceback": [
            "\u001b[0;31m---------------------------------------------------------------------------\u001b[0m",
            "\u001b[0;31mNameError\u001b[0m                                 Traceback (most recent call last)",
            "\u001b[0;32m<ipython-input-2-2676cf2eb1b5>\u001b[0m in \u001b[0;36m<module>\u001b[0;34m()\u001b[0m\n\u001b[1;32m      5\u001b[0m \u001b[0;34m\u001b[0m\u001b[0m\n\u001b[1;32m      6\u001b[0m \u001b[0;31m#for featuered engineerd data\u001b[0m\u001b[0;34m\u001b[0m\u001b[0;34m\u001b[0m\u001b[0;34m\u001b[0m\u001b[0m\n\u001b[0;32m----> 7\u001b[0;31m \u001b[0mrmse_fe\u001b[0m \u001b[0;34m=\u001b[0m \u001b[0mpd\u001b[0m\u001b[0;34m.\u001b[0m\u001b[0mDataFrame\u001b[0m\u001b[0;34m(\u001b[0m\u001b[0;34m)\u001b[0m\u001b[0;34m\u001b[0m\u001b[0;34m\u001b[0m\u001b[0m\n\u001b[0m\u001b[1;32m      8\u001b[0m \u001b[0;32mfor\u001b[0m \u001b[0mmodel_key\u001b[0m\u001b[0;34m,\u001b[0m\u001b[0mmodel_val\u001b[0m \u001b[0;32min\u001b[0m \u001b[0mmodels\u001b[0m\u001b[0;34m.\u001b[0m\u001b[0mitems\u001b[0m\u001b[0;34m(\u001b[0m\u001b[0;34m)\u001b[0m\u001b[0;34m:\u001b[0m\u001b[0;34m\u001b[0m\u001b[0;34m\u001b[0m\u001b[0m\n\u001b[1;32m      9\u001b[0m   \u001b[0mrmse_fe\u001b[0m\u001b[0;34m[\u001b[0m\u001b[0;34mf'{model_key}'\u001b[0m\u001b[0;34m]\u001b[0m \u001b[0;34m=\u001b[0m \u001b[0mRMSE_model\u001b[0m\u001b[0;34m(\u001b[0m\u001b[0mmodel_val\u001b[0m\u001b[0;34m,\u001b[0m\u001b[0mx_trans\u001b[0m\u001b[0;34m,\u001b[0m\u001b[0my_multi\u001b[0m\u001b[0;34m)\u001b[0m\u001b[0;34m\u001b[0m\u001b[0;34m\u001b[0m\u001b[0m\n",
            "\u001b[0;31mNameError\u001b[0m: name 'pd' is not defined"
          ]
        }
      ],
      "source": [
        "grad_model = GradientBoostingRegressor(random_state=1)\n",
        "et_model = ExtraTreesRegressor(random_state=1)\n",
        "rf_model = RandomForestRegressor(random_state=1)\n",
        "models = {'gb':grad_model,'et':et_model,'rf':rf_model}\n",
        "\n",
        "#for featuered engineerd data\n",
        "rmse_fe = pd.DataFrame()\n",
        "for model_key,model_val in models.items():\n",
        "  rmse_fe[f'{model_key}'] = RMSE_model(model_val,x_trans,y_multi)\n",
        "\n",
        "rmse_fe_melted=pd.melt(rmse_fe)\n",
        "rmse_fe_melted['type'] = 'FE'\n",
        "# rmse_fe_melted.head()"
      ]
    },
    {
      "cell_type": "code",
      "execution_count": null,
      "metadata": {
        "colab": {
          "base_uri": "https://localhost:8080/"
        },
        "id": "gXZc0PMhuo6G",
        "outputId": "7da951bb-e0a0-437d-d684-f222e78a4636"
      },
      "outputs": [
        {
          "output_type": "stream",
          "name": "stdout",
          "text": [
            "mean armse for gb 23.447715714438502\n",
            "mean armse for et 22.381941705351593\n",
            "mean armse for rf 31.314280100123383\n"
          ]
        }
      ],
      "source": [
        "for col in rmse_fe.columns:\n",
        "  print(f'mean armse for {col}',rmse_fe[col].mean())"
      ]
    },
    {
      "cell_type": "code",
      "execution_count": null,
      "metadata": {
        "id": "LsksJe07DX9j"
      },
      "outputs": [],
      "source": [
        "#for NON featured engineerd data\n",
        "rmse_nonfe = pd.DataFrame()\n",
        "for model_key,model_val in models.items():\n",
        "  rmse_nonfe[f'{model_key}'] = RMSE_model(model_val,x_nonfe,y_multi)\n",
        "\n",
        "rmse_nonfe_melted=pd.melt(rmse_nonfe)\n",
        "rmse_nonfe_melted['type'] = 'Non FE'\n",
        "# rmse_nonfe_melted"
      ]
    },
    {
      "cell_type": "code",
      "execution_count": null,
      "metadata": {
        "colab": {
          "base_uri": "https://localhost:8080/"
        },
        "id": "MjSPSvkBuxxp",
        "outputId": "8bb3e949-df11-4646-8a4d-5059bde84776"
      },
      "outputs": [
        {
          "output_type": "stream",
          "name": "stdout",
          "text": [
            "mean armse_nonfe for gb 25.555708961686868\n",
            "mean armse_nonfe for et 28.326435895382865\n",
            "mean armse_nonfe for rf 33.16816762932391\n"
          ]
        }
      ],
      "source": [
        "for col in rmse_nonfe.columns:\n",
        "  print(f'mean armse_nonfe for {col}',rmse_nonfe[col].mean())"
      ]
    },
    {
      "cell_type": "code",
      "execution_count": null,
      "metadata": {
        "colab": {
          "base_uri": "https://localhost:8080/",
          "height": 579
        },
        "id": "P1tQfBxsDX9j",
        "outputId": "8598f58d-7107-4ff6-f381-76fb19a83be1"
      },
      "outputs": [
        {
          "output_type": "stream",
          "name": "stderr",
          "text": [
            "The PostScript backend does not support transparency; partially transparent artists will be rendered opaque.\n",
            "The PostScript backend does not support transparency; partially transparent artists will be rendered opaque.\n"
          ]
        },
        {
          "output_type": "display_data",
          "data": {
            "image/png": "[encoded data removed]",
            "text/plain": [
              "<Figure size 800x640 with 1 Axes>"
            ]
          },
          "metadata": {
            "needs_background": "light"
          }
        }
      ],
      "source": [
        "import matplotlib.pyplot as plt\n",
        "import seaborn as sns\n",
        "\n",
        "#concate fe and nonfe dataframes in one to be able to visualize them\n",
        "rmse_all = pd.concat([rmse_fe_melted,rmse_nonfe_melted])\n",
        "\n",
        "#plotting our rmse plot\n",
        "plt.figure(figsize=(10, 8), dpi=80)\n",
        "ax = sns.boxplot(x=\"variable\", y=\"value\", hue=\"type\",\n",
        "                 data=rmse_all, palette=\"Greys\",width=.5)\n",
        "ax.grid('both', linestyle='-.')\n",
        "ax.set_axisbelow(True)\n",
        "ax.tick_params(axis='both', direction='in')\n",
        "plt.legend(loc='upper left')\n",
        "plt.ylabel('aRMSE Range')\n",
        "plt.xlabel('Model')\n",
        "plt.savefig('/content/drive/MyDrive/data/aRMSE.eps', format='eps', dpi=1000)\n",
        "plt.show()"
      ]
    },
    {
      "cell_type": "markdown",
      "metadata": {
        "id": "I8878k_bDX9j"
      },
      "source": [
        "##R2 graph"
      ]
    },
    {
      "cell_type": "code",
      "execution_count": null,
      "metadata": {
        "id": "980o1uj8DX9k"
      },
      "outputs": [],
      "source": [
        "from sklearn.ensemble import GradientBoostingRegressor\n",
        "from sklearn.ensemble import ExtraTreesRegressor\n",
        "from sklearn.ensemble import RandomForestRegressor\n",
        "from sklearn.model_selection import RepeatedKFold\n",
        "from sklearn.model_selection import cross_val_score\n",
        "from sklearn.multioutput import MultiOutputRegressor\n",
        "\n",
        "def r2_for_ratio(model,X):\n",
        "  # train_size = [.1,.2,.3,.4,.5,.6,.7,.8,.9,1]\n",
        "  train_size = {'10%':.1,'20%':.2,'50%':.5, '80%':.8, '90%':.9}\n",
        "  r2_df = pd.DataFrame()\n",
        "\n",
        "  #recreate dataframe from x_multi and y_multi\n",
        "  df_multi_fun = X.copy()\n",
        "  df_multi_fun[[\"Throughput\",\"Latency\"]] = df[[\"Throughput\",\"Latency\"]].copy()\n",
        "\n",
        "  for key,size in train_size.items():\n",
        "    #get random required size from our data\n",
        "    df_multi_sampled = df_multi_fun.sample(frac=size,random_state=3)\n",
        "\n",
        "    #x\n",
        "    x_multi_sample=df_multi_sampled.copy()\n",
        "    x_multi_sample.drop(columns = ['Throughput','Latency'],inplace = True)\n",
        "\n",
        "    #y\n",
        "    y_multi_sample=df_multi_sampled[[\"Throughput\",\"Latency\"]]\n",
        "  \n",
        "    reg = MultiOutputRegressor(model)\n",
        "    cv = RepeatedKFold(n_splits=10, n_repeats=2, random_state=12)\n",
        "    scores = cross_val_score(reg, x_multi_sample, y_multi_sample, scoring='r2', cv=cv, n_jobs=-1)\n",
        "    r2_vals = pd.Series(scores)\n",
        "    r2_df[f'{key}'] = r2_vals\n",
        "  return r2_df"
      ]
    },
    {
      "cell_type": "code",
      "execution_count": null,
      "metadata": {
        "id": "KHefDfoFDX9k"
      },
      "outputs": [],
      "source": [
        "#make r2_graph dataframe for featured engineered data\n",
        "grad_model = GradientBoostingRegressor(random_state=1)\n",
        "et_model = ExtraTreesRegressor(random_state=1)\n",
        "rf_model = RandomForestRegressor(random_state=1)\n",
        "models = {'gb':grad_model,'et':et_model,'rf':rf_model}\n",
        "\n",
        "all_models_r2_df = pd.DataFrame()\n",
        "\n",
        "for model_key,model_val in models.items():\n",
        "  df_deform = pd.DataFrame()\n",
        "  df_deform = r2_for_ratio(model_val,x_trans)\n",
        "  df_deform=pd.melt(df_deform)\n",
        "  df_deform['type'] = model_key\n",
        "  # print(df_deform.head(15))\n",
        "  all_models_r2_df = all_models_r2_df.append(df_deform, ignore_index = True)\n",
        "\n",
        "#all_models_r2_df"
      ]
    },
    {
      "cell_type": "code",
      "execution_count": null,
      "metadata": {
        "id": "tThYE7DDDX9l",
        "colab": {
          "base_uri": "https://localhost:8080/",
          "height": 741
        },
        "outputId": "3fe6eea8-42c8-4e17-fd9a-cfc5e17c898e"
      },
      "outputs": [
        {
          "output_type": "stream",
          "name": "stderr",
          "text": [
            "/usr/local/lib/python3.7/dist-packages/ipykernel_launcher.py:14: MatplotlibDeprecationWarning: Adding an axes using the same arguments as a previous axes currently reuses the earlier instance.  In a future version, a new instance will always be created and returned.  Meanwhile, this warning can be suppressed, and the future behavior ensured, by passing a unique label to each axes instance.\n",
            "  \n",
            "The PostScript backend does not support transparency; partially transparent artists will be rendered opaque.\n",
            "The PostScript backend does not support transparency; partially transparent artists will be rendered opaque.\n"
          ]
        },
        {
          "output_type": "display_data",
          "data": {
            "image/png": "[encoded data removed]",
            "text/plain": [
              "<Figure size 800x640 with 1 Axes>"
            ]
          },
          "metadata": {
            "needs_background": "light"
          }
        }
      ],
      "source": [
        "#R2 score for different sizes for different models graph for featuered enginered data\n",
        "import matplotlib.pyplot as plt\n",
        "import seaborn as sns\n",
        "plt.figure(figsize=(10, 8), dpi=80)\n",
        "ax = sns.boxplot(x=\"type\", y=\"value\", hue=\"variable\",\n",
        "                 data=all_models_r2_df, palette=\"Greys\")\n",
        "ax.grid('both', linestyle='-.')\n",
        "ax.set_axisbelow(True)\n",
        "ax.tick_params(axis='both', direction='in')\n",
        "plt.legend(loc='lower right')\n",
        "plt.ylabel('R2 Range')\n",
        "plt.xlabel('Model')\n",
        "plt.tight_layout()\n",
        "axes = plt.axes()\n",
        "axes.set_ylim([0, 1])\n",
        "plt.savefig('/content/drive/MyDrive/data/R2Train.eps', format='eps', dpi=1000)\n",
        "plt.show()\n"
      ]
    },
    {
      "cell_type": "markdown",
      "metadata": {
        "id": "wdKhLoJWKOD0"
      },
      "source": [
        "##R2 graph using learning_curve function"
      ]
    },
    {
      "cell_type": "code",
      "execution_count": null,
      "metadata": {
        "id": "F4fisih9KKDj"
      },
      "outputs": [],
      "source": [
        "# r2 using learning curve function\n",
        "from sklearn.utils import shuffle\n",
        "from sklearn.ensemble import GradientBoostingRegressor\n",
        "from sklearn.ensemble import ExtraTreesRegressor\n",
        "from sklearn.ensemble import RandomForestRegressor\n",
        "from sklearn.multioutput import MultiOutputRegressor\n",
        "from sklearn.model_selection import learning_curve\n",
        "\n",
        "def r2_for_ratio_learn_curve(model,X):\n",
        "  train_sizes = [.1, .2, .4, .5, .8, .9]\n",
        "\n",
        "  #recreate dataframe from x_multi and y_multi\n",
        "  df_multi_fun = X.copy()\n",
        "  df_multi_fun[[\"Throughput\",\"Latency\"]] = df[[\"Throughput\",\"Latency\"]].copy()\n",
        "\n",
        "  #x\n",
        "  x_multi_sample=df_multi_fun.copy()\n",
        "  x_multi_sample.drop(columns = ['Throughput','Latency'],inplace = True)\n",
        "\n",
        "  #y\n",
        "  y_multi_sample=df_multi_fun[[\"Throughput\",\"Latency\"]]\n",
        "\n",
        "  reg = MultiOutputRegressor(model)\n",
        "  \n",
        "  train_sizes, train_scores, validation_scores = learning_curve(\n",
        "  estimator = reg,\n",
        "  X = x_multi_sample,\n",
        "  y = y_multi_sample, train_sizes = train_sizes, cv = 10,shuffle = True,\n",
        "  random_state =12, scoring = 'r2')\n",
        "  \n",
        "  validation_scores = validation_scores.transpose()\n",
        "  print('validation scores = ', validation_scores)\n",
        "\n",
        "  r2_df = pd.DataFrame(validation_scores, columns = ['10%','20%','40%','50%','80%','90%'])\n",
        "\n",
        "  return r2_df"
      ]
    },
    {
      "cell_type": "code",
      "execution_count": null,
      "metadata": {
        "id": "Cl3qerJGKEZz",
        "colab": {
          "base_uri": "https://localhost:8080/"
        },
        "outputId": "723328d1-0332-46a9-d0ba-bba20a040055"
      },
      "outputs": [
        {
          "output_type": "stream",
          "name": "stdout",
          "text": [
            "validation scores =  [[ 5.01498430e-01  7.68481049e-01 -3.28660150e+00  6.51986252e-01\n",
            "   9.19921836e-01  9.28185051e-01]\n",
            " [-1.57109090e+00 -3.86862014e-01  5.80597746e-01 -1.79533423e-01\n",
            "   8.95749303e-01  8.89042134e-01]\n",
            " [-2.07176272e+00  4.14885067e-01  9.02957263e-01  9.53732443e-01\n",
            "   9.80477278e-01  9.74360836e-01]\n",
            " [-7.65492304e+00  8.17504841e-02  8.08141640e-01  8.83753575e-01\n",
            "   9.06472093e-01  9.64340199e-01]\n",
            " [ 5.98127383e-01  9.51302451e-01  9.29791111e-01  9.75989623e-01\n",
            "   9.81234362e-01  9.90800249e-01]\n",
            " [ 5.40637750e-01  7.35984538e-01  7.94730039e-01  7.85435972e-01\n",
            "   9.58271041e-01  9.45453948e-01]\n",
            " [-1.13316216e+01 -1.13927751e+00  7.92944018e-03 -1.10088443e-01\n",
            "   1.91258665e-01  3.72070734e-01]\n",
            " [-2.24502678e+00  6.80163580e-02 -4.88260279e-01  1.89121745e-01\n",
            "   7.19176256e-01  7.39930530e-01]\n",
            " [-2.52861118e+00 -6.95004065e+00 -3.47400517e+00 -3.94390018e+00\n",
            "  -1.09874625e+00  1.76992191e-01]\n",
            " [-1.78637270e+01 -5.82587791e+00 -4.47138583e+00 -3.76112579e+00\n",
            "  -6.44651984e+00 -6.70050294e+00]]\n",
            "validation scores =  [[ 5.90638089e-01  8.92535904e-01  8.44165311e-01  8.74792522e-01\n",
            "   9.32192260e-01  9.35341574e-01]\n",
            " [ 6.53521702e-01  8.32636408e-01  9.30037986e-01  6.43207216e-01\n",
            "   9.48915513e-01  9.55684323e-01]\n",
            " [-1.14231068e+00  8.29884275e-01  9.72005878e-01  9.74792108e-01\n",
            "   9.97203976e-01  9.97474532e-01]\n",
            " [ 7.23964571e-01  8.01947016e-01  8.29468378e-01  9.40932229e-01\n",
            "   9.49370874e-01  9.66059614e-01]\n",
            " [ 9.08925320e-01  9.38456144e-01  9.54903674e-01  9.39189959e-01\n",
            "   9.29695054e-01  9.49998298e-01]\n",
            " [ 3.57924233e-01  6.78283952e-01  7.46338989e-01  7.56045057e-01\n",
            "   9.25485619e-01  9.27054311e-01]\n",
            " [-1.44185853e+00 -1.14133507e+00 -1.36075298e+00 -1.06967438e+00\n",
            "   5.77919128e-02 -1.63927400e-01]\n",
            " [-7.94769502e-01 -4.45917104e-01  4.62500311e-01  7.09536318e-01\n",
            "   7.23615948e-01  9.00197221e-01]\n",
            " [-9.86440180e-01 -2.27711537e-01  1.07107525e-03  1.42403589e-02\n",
            "   5.03213389e-01  4.92759358e-01]\n",
            " [-9.32951156e-01 -2.47137198e+00 -4.21777162e+00 -3.77668369e+00\n",
            "  -1.80777091e+00 -1.23450600e+00]]\n",
            "validation scores =  [[  0.33682709   0.78188423  -7.2773608   -2.76784251   0.7466809\n",
            "    0.82958995]\n",
            " [ -0.22680158  -0.72400402   0.41726177  -0.2417572    0.66097427\n",
            "    0.70407948]\n",
            " [ -1.67901944   0.42435596   0.91943712   0.76136302   0.97672356\n",
            "    0.97997698]\n",
            " [ -4.07404341   0.05680363   0.42271071   0.83198729   0.899789\n",
            "    0.94903025]\n",
            " [  0.60908676   0.91248693   0.91784451   0.95079575   0.97343444\n",
            "    0.98117616]\n",
            " [  0.44680533   0.62662976   0.71566702   0.69050076   0.9529608\n",
            "    0.96908621]\n",
            " [ -3.71910572  -0.387727     0.21971683   0.4603019    0.70719229\n",
            "    0.41210142]\n",
            " [ -2.46354613  -1.83461357  -0.42417602   0.51654639   0.6628068\n",
            "    0.71647283]\n",
            " [ -3.6106063  -10.37599917  -5.33219559  -4.4096959   -2.10770501\n",
            "   -1.03994179]\n",
            " [-19.05148879 -15.22099384 -11.27564116  -7.63484665  -5.32893404\n",
            "   -3.33358461]]\n"
          ]
        }
      ],
      "source": [
        "#make r2_graph dataframe for featured engineered data\n",
        "grad_model = GradientBoostingRegressor(random_state=1)\n",
        "et_model = ExtraTreesRegressor(random_state=1)\n",
        "rf_model = RandomForestRegressor(random_state=1)\n",
        "models = {'gb':grad_model,'et':et_model,'rf':rf_model}\n",
        "\n",
        "all_models_r2_df_lc = pd.DataFrame()\n",
        "\n",
        "for model_key,model_val in models.items():\n",
        "  df_deform_lc = pd.DataFrame()\n",
        "  df_deform_lc = r2_for_ratio_learn_curve(model_val,x_nonfe)\n",
        "  df_deform_lc=pd.melt(df_deform_lc)\n",
        "  df_deform_lc['type'] = model_key\n",
        "  # print(df_deform.head(15))\n",
        "  all_models_r2_df_lc = all_models_r2_df_lc.append(df_deform_lc, ignore_index = True)\n",
        "\n",
        "#all_models_r2_df"
      ]
    },
    {
      "cell_type": "code",
      "execution_count": null,
      "metadata": {
        "id": "5MQFjbP5KEcK",
        "colab": {
          "base_uri": "https://localhost:8080/",
          "height": 741
        },
        "outputId": "515f338b-148e-4348-9700-c7b51a885eda"
      },
      "outputs": [
        {
          "output_type": "stream",
          "name": "stderr",
          "text": [
            "/usr/local/lib/python3.7/dist-packages/ipykernel_launcher.py:14: MatplotlibDeprecationWarning: Adding an axes using the same arguments as a previous axes currently reuses the earlier instance.  In a future version, a new instance will always be created and returned.  Meanwhile, this warning can be suppressed, and the future behavior ensured, by passing a unique label to each axes instance.\n",
            "  \n",
            "The PostScript backend does not support transparency; partially transparent artists will be rendered opaque.\n",
            "The PostScript backend does not support transparency; partially transparent artists will be rendered opaque.\n"
          ]
        },
        {
          "output_type": "display_data",
          "data": {
            "image/png": "[encoded data removed]",
            "text/plain": [
              "<Figure size 800x640 with 1 Axes>"
            ]
          },
          "metadata": {
            "needs_background": "light"
          }
        }
      ],
      "source": [
        "#R2 score for different sizes for different models graph for featuered enginered data\n",
        "import matplotlib.pyplot as plt\n",
        "import seaborn as sns\n",
        "plt.figure(figsize=(10, 8), dpi=80)\n",
        "ax = sns.boxplot(x=\"type\", y=\"value\", hue=\"variable\",\n",
        "                 data=all_models_r2_df_lc, palette=\"Greys\")\n",
        "ax.grid('both', linestyle='-.')\n",
        "ax.set_axisbelow(True)\n",
        "ax.tick_params(axis='both', direction='in')\n",
        "plt.legend(loc='lower right')\n",
        "plt.ylabel('R2 Range')\n",
        "plt.xlabel('Model')\n",
        "plt.tight_layout()\n",
        "axes = plt.axes()\n",
        "axes.set_ylim([0, 1])\n",
        "plt.savefig('/content/drive/MyDrive/data/R2mod.eps', format='eps', dpi=1000)\n",
        "plt.show()\n"
      ]
    },
    {
      "cell_type": "markdown",
      "metadata": {
        "id": "cM-ErTZ6DX9l"
      },
      "source": [
        "\n",
        "##R2 comparison between fe and nonfe graph"
      ]
    },
    {
      "cell_type": "code",
      "execution_count": null,
      "metadata": {
        "id": "wRLgEN8_DX9l"
      },
      "outputs": [],
      "source": [
        "from sklearn.ensemble import GradientBoostingRegressor\n",
        "from sklearn.ensemble import ExtraTreesRegressor\n",
        "from sklearn.ensemble import RandomForestRegressor\n",
        "from sklearn.metrics import mean_absolute_error\n",
        "from sklearn.model_selection import RepeatedKFold\n",
        "from sklearn.model_selection import cross_val_score\n",
        "from sklearn.multioutput import MultiOutputRegressor\n",
        "\n",
        "def r2_model_comp(model,X,y):\n",
        "  cv = RepeatedKFold(n_splits=10, n_repeats=10, random_state=12)\n",
        "  reg = MultiOutputRegressor(model)\n",
        "  scores = cross_val_score(reg, X, y, scoring='r2', cv=cv, n_jobs=-1)\n",
        "  rmse_vals = pd.Series(scores)\n",
        "  return rmse_vals\n"
      ]
    },
    {
      "cell_type": "code",
      "execution_count": null,
      "metadata": {
        "id": "-y8U8oV1DX9m"
      },
      "outputs": [],
      "source": [
        "#R2 score for different models graph for featuered enginered data\n",
        "grad_model = GradientBoostingRegressor(random_state=1)\n",
        "et_model = ExtraTreesRegressor(random_state=1)\n",
        "rf_model = RandomForestRegressor(random_state=1)\n",
        "models = {'gb':grad_model,'et':et_model,'rf':rf_model}\n",
        "\n",
        "r2_fe = pd.DataFrame()\n",
        "#for featuered engineerd data\n",
        "for model_key,model_val in models.items():\n",
        "  r2_fe[f'{model_key}'] = r2_model_comp(model_val,x_trans,y_multi)\n",
        "\n",
        "r2_fe_melted=pd.melt(r2_fe)\n",
        "r2_fe_melted['type'] = 'FE'\n",
        "# r2_fe_melted.head()"
      ]
    },
    {
      "cell_type": "code",
      "execution_count": null,
      "metadata": {
        "id": "Fu1hUrHdfwSy",
        "colab": {
          "base_uri": "https://localhost:8080/"
        },
        "outputId": "c1aa7429-5b72-4818-e410-e9db05d05818"
      },
      "outputs": [
        {
          "output_type": "stream",
          "name": "stdout",
          "text": [
            "mean r2 for gb 0.96497161405599\n",
            "mean r2 for et 0.9541981784317004\n",
            "mean r2 for rf 0.9379066425031232\n"
          ]
        }
      ],
      "source": [
        "for col in r2_fe.columns:\n",
        "  print(f'mean r2 for {col}',r2_fe[col].mean())"
      ]
    },
    {
      "cell_type": "code",
      "execution_count": null,
      "metadata": {
        "id": "0LlLyixKDX9m"
      },
      "outputs": [],
      "source": [
        "#for NON featuered engineerd data\n",
        "r2_nonfe = pd.DataFrame()\n",
        "for model_key,model_val in models.items():\n",
        "  r2_nonfe[f'{model_key}'] = r2_model_comp(model_val,x_nonfe,y_multi)\n",
        "\n",
        "r2_nonfe_melted=pd.melt(r2_nonfe)\n",
        "r2_nonfe_melted['type'] = 'Non FE'\n",
        "# r2_nonfe_melted"
      ]
    },
    {
      "cell_type": "code",
      "execution_count": null,
      "metadata": {
        "id": "yesz6ajFh85r",
        "colab": {
          "base_uri": "https://localhost:8080/"
        },
        "outputId": "decc8f01-3f86-4c29-ddd8-8ce5a4ce1790"
      },
      "outputs": [
        {
          "output_type": "stream",
          "name": "stdout",
          "text": [
            "mean r2 for Non-FE gb 0.9569542108992454\n",
            "mean r2 for Non-FE et 0.9219018259599627\n",
            "mean r2 for Non-FE rf 0.9260042411532166\n"
          ]
        }
      ],
      "source": [
        "for col in r2_nonfe.columns:\n",
        "  print(f'mean r2 for Non-FE {col}',r2_nonfe[col].mean())"
      ]
    },
    {
      "cell_type": "code",
      "execution_count": null,
      "metadata": {
        "id": "9R1gSN-hDX9m",
        "colab": {
          "base_uri": "https://localhost:8080/",
          "height": 579
        },
        "outputId": "cbf74b6c-8600-411f-ecab-8d158e6bef88"
      },
      "outputs": [
        {
          "output_type": "stream",
          "name": "stderr",
          "text": [
            "The PostScript backend does not support transparency; partially transparent artists will be rendered opaque.\n",
            "The PostScript backend does not support transparency; partially transparent artists will be rendered opaque.\n"
          ]
        },
        {
          "output_type": "display_data",
          "data": {
            "image/png": "[encoded data removed]",
            "text/plain": [
              "<Figure size 800x640 with 1 Axes>"
            ]
          },
          "metadata": {
            "needs_background": "light"
          }
        }
      ],
      "source": [
        "import matplotlib.pyplot as plt\n",
        "import seaborn as sns\n",
        "\n",
        "#concate fe and nonfe dataframes in one to be able to visualize them\n",
        "r2_all = pd.concat([r2_fe_melted,r2_nonfe_melted])\n",
        "\n",
        "#plotting our r2 plot\n",
        "plt.figure(figsize=(10, 8), dpi=80)\n",
        "ax = sns.boxplot(x=\"variable\", y=\"value\", hue=\"type\",\n",
        "                 data=r2_all, palette=\"Greys\",width=.5)\n",
        "ax.grid('both', linestyle='-.')\n",
        "ax.set_axisbelow(True)\n",
        "ax.tick_params(axis='both', direction='in')\n",
        "plt.legend(loc='lower right')\n",
        "plt.ylabel('R2 Range')\n",
        "plt.xlabel('Model')\n",
        "plt.savefig('/content/drive/MyDrive/data/R2FE.eps', format='eps', dpi=1000)\n",
        "plt.show()"
      ]
    },
    {
      "cell_type": "code",
      "execution_count": null,
      "metadata": {
        "id": "q3G4-kyRWGWd"
      },
      "outputs": [],
      "source": [
        ""
      ]
    }
  ],
  "metadata": {
    "colab": {
      "collapsed_sections": [
        "qoSSXm7bPja0",
        "X-CL6T-9fjlq",
        "yD1hf5hIoKFc",
        "dcs7n_-Ln1k3",
        "JacYn0Khn1k5",
        "x42qTkyp8F6E",
        "m_-TgKxGGtPz",
        "C3ovvU9tN_KO",
        "Jlg1Gjj3faA5",
        "F-Xu1m-djUMS",
        "7hUl4p60DX9g",
        "wdKhLoJWKOD0"
      ],
      "name": "Extratree_multioutputRegression_final.ipynb",
      "provenance": [],
      "include_colab_link": true
    },
    "kernelspec": {
      "display_name": "Python 3",
      "name": "python3"
    },
    "language_info": {
      "name": "python"
    }
  },
  "nbformat": 4,
  "nbformat_minor": 0
}